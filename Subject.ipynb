{
 "cells": [
  {
   "cell_type": "code",
   "execution_count": 43,
   "metadata": {},
   "outputs": [],
   "source": [
    "import requests\n",
    "from bs4 import BeautifulSoup\n",
    "import pandas as pd\n",
    "import numpy as np\n",
    "import json\n",
    "from lxml import etree\n",
    "from selenium import webdriver\n",
    "from selenium.webdriver.chrome.options import Options\n",
    "from selenium.webdriver.common.by import By\n",
    "from selenium.webdriver.common.action_chains import ActionChains\n",
    "from webdriver_manager.chrome import ChromeDriverManager\n",
    "from selenium.webdriver.support import expected_conditions as EC\n",
    "from selenium.webdriver.support.ui import WebDriverWait\n",
    "import time\n",
    "import concurrent.futures"
   ]
  },
  {
   "cell_type": "code",
   "execution_count": 44,
   "metadata": {},
   "outputs": [],
   "source": [
    "col = ['Name', 'Location', 'Rank', 'Overall Score', 'Academic Reputation', 'Employer Reputation', 'Citations per Paper', 'H-index Citations', 'International Research Network']"
   ]
  },
  {
   "cell_type": "code",
   "execution_count": 45,
   "metadata": {},
   "outputs": [],
   "source": [
    "ignore_international_score = ['hospitality-leisure-management', 'history', 'sociology', 'statistics-operational-research', 'law-legal-studies', 'education-training', 'business-management-studies', 'accounting-finance', 'nursing', 'modern-languages', 'english-language-literature', 'library-information-management', 'marketing', 'modern-languages', 'performing-arts', 'philosophy']"
   ]
  },
  {
   "cell_type": "code",
   "execution_count": 46,
   "metadata": {},
   "outputs": [],
   "source": [
    "def QS_crawling(subject, page): \n",
    "\n",
    "    if page == 0:\n",
    "        with pd.ExcelWriter('QS_' + subject + '_2023.xlsx', mode=\"w\") as writer:\n",
    "            output = pd.DataFrame()\n",
    "            output = output = output.append(pd.DataFrame([[-1, -1, -1, -1, -1, -1, -1,-1, -1]], columns = col))\n",
    "            output.to_excel(writer, index = False, sheet_name = \"Sheet1\")\n",
    "            writer.save()\n",
    "    \n",
    "    output = pd.DataFrame()\n",
    "    #df_existing = pd.read_excel('QS_' + subject + '_2023.xlsx')\n",
    "    with pd.ExcelWriter('QS_' + subject + '_2023.xlsx', mode=\"a\", engine = \"openpyxl\", if_sheet_exists='overlay') as writer:\n",
    "\n",
    "        Rank = []\n",
    "        Name = []\n",
    "        Overall = []\n",
    "        Academic = []\n",
    "        Employer = []\n",
    "        Citation = []\n",
    "        H_index = []\n",
    "        International = []\n",
    "        Location = []\n",
    "        options = Options()\n",
    "        options.add_argument(\"--disable-notifacations\") #取消彈出視窗\n",
    "        options.add_argument(\"--window-size=5120,2880\")\n",
    "\n",
    "        browser = webdriver.Chrome(ChromeDriverManager().install(), chrome_options=options)\n",
    "\n",
    "        browser.get('https://www.topuniversities.com/university-rankings/university-subject-rankings/2023/' + subject + '?&page=' + str(page) + '&tab=indicators')\n",
    "\n",
    "        time.sleep(1)\n",
    "\n",
    "        l = browser.find_elements(By.CLASS_NAME, 'location')\n",
    "        for m in l:\n",
    "            Location.append(m.text)\n",
    "\n",
    "        element = WebDriverWait(browser, 10).until(EC.element_to_be_clickable((By.XPATH, '//*[@id=\"block-tu-d8-content\"]/div/article/div/div/div[3]/div/div[1]/div/section/div[3]/div/div/div/div[4]/span[2]')))\n",
    "        \n",
    "        find = browser.find_elements(By.CLASS_NAME, 'td-wrap-in')\n",
    "        c = 0\n",
    "        for i in find:\n",
    "            if c == 0:\n",
    "                c += 1\n",
    "                Name.append(i.text)\n",
    "            elif c == 1:\n",
    "                c += 1\n",
    "                Overall.append(i.text)\n",
    "            elif c == 2:\n",
    "                c += 1 \n",
    "                Academic.append(i.text)\n",
    "            elif c == 3:\n",
    "                c += 1\n",
    "                Employer.append(i.text)\n",
    "            elif c == 4:\n",
    "                c += 1\n",
    "                #Citation.append(i.text)\n",
    "            elif c == 5:\n",
    "                c += 1\n",
    "                #H_index.append(i.text)\n",
    "                if subject in ignore_international_score:\n",
    "                    c = 0\n",
    "            elif c == 6:\n",
    "                c = 0\n",
    "                #International.append(i.text)\n",
    "    \n",
    "        for i in range(3):\n",
    "            element.click()\n",
    "            time.sleep(1)\n",
    "\n",
    "        find = browser.find_elements(By.CLASS_NAME, 'td-wrap-in')\n",
    "        c = 0\n",
    "        for i in find:\n",
    "            if c == 0:\n",
    "                c += 1\n",
    "                #Name.append(i.text)\n",
    "            elif c == 1:\n",
    "                c += 1\n",
    "                #Overall.append(i.text)\n",
    "            elif c == 2:\n",
    "                c += 1 \n",
    "                #Academic.append(i.text)\n",
    "            elif c == 3:\n",
    "                c += 1\n",
    "                #Employer.append(i.text)\n",
    "            elif c == 4:\n",
    "                c += 1\n",
    "                Citation.append(i.text)\n",
    "            elif c == 5:\n",
    "                c += 1\n",
    "                H_index.append(i.text)\n",
    "                if subject in ignore_international_score:\n",
    "                    c = 0\n",
    "            elif c == 6:\n",
    "                c = 0\n",
    "                International.append(i.text)\n",
    "\n",
    "        r = browser.find_elements(By.CLASS_NAME, '_univ-rank')\n",
    "        for k in r:\n",
    "            Rank.append(k.text)\n",
    "            \n",
    "        if len(Name) == 0:\n",
    "            print('end of subject')\n",
    "            writer.save()\n",
    "            return True\n",
    "        for j in range(len(Name)):\n",
    "            print(Name[j], Rank[j], Overall[j], Academic[j])\n",
    "            if subject in ignore_international_score:\n",
    "                output = output.append(pd.DataFrame([[Name[j], Location[j], Rank[j], Overall[j], Academic[j], Employer[j], Citation[j], H_index[j], -1]], columns = col), ignore_index=True)\n",
    "            else :\n",
    "                output = output.append(pd.DataFrame([[Name[j], Location[j], Rank[j], Overall[j], Academic[j], Employer[j], Citation[j], H_index[j], International[j]]], columns = col))\n",
    "        browser.close()\n",
    "        output.to_excel(writer, index = False, sheet_name = \"Sheet1\", startrow = writer.sheets['Sheet1'].max_row, header = False)\n",
    "        #df_existing.to_excel(writer, index = False, sheet_name = \"Sheet1\")\n",
    "\n",
    "        print('done')\n",
    "        writer.save()\n",
    "        return False"
   ]
  },
  {
   "cell_type": "code",
   "execution_count": 47,
   "metadata": {},
   "outputs": [],
   "source": [
    "def get_subject(subject, start_page):\n",
    "\n",
    "\n",
    "    while True:  \n",
    "        print('crawling page', start_page)\n",
    "        if QS_crawling(subject, start_page):\n",
    "            break\n",
    "        start_page += 1"
   ]
  },
  {
   "cell_type": "code",
   "execution_count": 48,
   "metadata": {},
   "outputs": [
    {
     "name": "stdout",
     "output_type": "stream",
     "text": [
      "crawling page 0\n"
     ]
    },
    {
     "name": "stderr",
     "output_type": "stream",
     "text": [
      "C:\\Users\\MSI\\AppData\\Local\\Temp\\ipykernel_26616\\4148808711.py:6: FutureWarning: The frame.append method is deprecated and will be removed from pandas in a future version. Use pandas.concat instead.\n",
      "  output = output = output.append(pd.DataFrame([[-1, -1, -1, -1, -1, -1, -1,-1, -1]], columns = col))\n",
      "C:\\Users\\MSI\\AppData\\Local\\Temp\\ipykernel_26616\\4148808711.py:8: FutureWarning: save is not part of the public API, usage can give unexpected results and will be removed in a future version\n",
      "  writer.save()\n",
      "D:\\system\\program\\Anaconda\\lib\\site-packages\\xlsxwriter\\workbook.py:339: UserWarning: Calling close() on already closed file.\n",
      "  warn(\"Calling close() on already closed file.\")\n",
      "C:\\Users\\MSI\\AppData\\Local\\Temp\\ipykernel_26616\\4148808711.py:27: DeprecationWarning: executable_path has been deprecated, please pass in a Service object\n",
      "  browser = webdriver.Chrome(ChromeDriverManager().install(), chrome_options=options)\n",
      "C:\\Users\\MSI\\AppData\\Local\\Temp\\ipykernel_26616\\4148808711.py:27: DeprecationWarning: use options instead of chrome_options\n",
      "  browser = webdriver.Chrome(ChromeDriverManager().install(), chrome_options=options)\n"
     ]
    },
    {
     "name": "stdout",
     "output_type": "stream",
     "text": [
      "New York University (NYU) 1 97.6 99.6\n",
      "Rutgers University–New Brunswick 2 96.8 100\n",
      "The London School of Economics and Political Science (LSE) 3 94.3 96\n",
      "University of Oxford 4 92 91.2\n",
      "University of Pittsburgh 5 90.6 95.5\n",
      "University of Cambridge 6 89.6 89.4\n",
      "Harvard University 7 88.3 88.1\n",
      "Australian National University (ANU) 8 88.1 88.2\n",
      "Ludwig-Maximilians-Universität München 9 87.8 89.7\n",
      "University of St Andrews 10 87.5 89.5\n",
      "University of Toronto 11 86.4 87.1\n",
      "University of Notre Dame 12 86.3 88.3\n",
      "Humboldt-Universität zu Berlin 13 86.1 87.6\n",
      "Princeton University 14 85.5 84.2\n",
      "Yale University 15 84.2 82.9\n",
      "done\n"
     ]
    },
    {
     "name": "stderr",
     "output_type": "stream",
     "text": [
      "C:\\Users\\MSI\\AppData\\Local\\Temp\\ipykernel_26616\\4148808711.py:108: FutureWarning: The frame.append method is deprecated and will be removed from pandas in a future version. Use pandas.concat instead.\n",
      "  output = output.append(pd.DataFrame([[Name[j], Location[j], Rank[j], Overall[j], Academic[j], Employer[j], Citation[j], H_index[j], -1]], columns = col), ignore_index=True)\n",
      "C:\\Users\\MSI\\AppData\\Local\\Temp\\ipykernel_26616\\4148808711.py:108: FutureWarning: The frame.append method is deprecated and will be removed from pandas in a future version. Use pandas.concat instead.\n",
      "  output = output.append(pd.DataFrame([[Name[j], Location[j], Rank[j], Overall[j], Academic[j], Employer[j], Citation[j], H_index[j], -1]], columns = col), ignore_index=True)\n",
      "C:\\Users\\MSI\\AppData\\Local\\Temp\\ipykernel_26616\\4148808711.py:108: FutureWarning: The frame.append method is deprecated and will be removed from pandas in a future version. Use pandas.concat instead.\n",
      "  output = output.append(pd.DataFrame([[Name[j], Location[j], Rank[j], Overall[j], Academic[j], Employer[j], Citation[j], H_index[j], -1]], columns = col), ignore_index=True)\n",
      "C:\\Users\\MSI\\AppData\\Local\\Temp\\ipykernel_26616\\4148808711.py:108: FutureWarning: The frame.append method is deprecated and will be removed from pandas in a future version. Use pandas.concat instead.\n",
      "  output = output.append(pd.DataFrame([[Name[j], Location[j], Rank[j], Overall[j], Academic[j], Employer[j], Citation[j], H_index[j], -1]], columns = col), ignore_index=True)\n",
      "C:\\Users\\MSI\\AppData\\Local\\Temp\\ipykernel_26616\\4148808711.py:108: FutureWarning: The frame.append method is deprecated and will be removed from pandas in a future version. Use pandas.concat instead.\n",
      "  output = output.append(pd.DataFrame([[Name[j], Location[j], Rank[j], Overall[j], Academic[j], Employer[j], Citation[j], H_index[j], -1]], columns = col), ignore_index=True)\n",
      "C:\\Users\\MSI\\AppData\\Local\\Temp\\ipykernel_26616\\4148808711.py:108: FutureWarning: The frame.append method is deprecated and will be removed from pandas in a future version. Use pandas.concat instead.\n",
      "  output = output.append(pd.DataFrame([[Name[j], Location[j], Rank[j], Overall[j], Academic[j], Employer[j], Citation[j], H_index[j], -1]], columns = col), ignore_index=True)\n",
      "C:\\Users\\MSI\\AppData\\Local\\Temp\\ipykernel_26616\\4148808711.py:108: FutureWarning: The frame.append method is deprecated and will be removed from pandas in a future version. Use pandas.concat instead.\n",
      "  output = output.append(pd.DataFrame([[Name[j], Location[j], Rank[j], Overall[j], Academic[j], Employer[j], Citation[j], H_index[j], -1]], columns = col), ignore_index=True)\n",
      "C:\\Users\\MSI\\AppData\\Local\\Temp\\ipykernel_26616\\4148808711.py:108: FutureWarning: The frame.append method is deprecated and will be removed from pandas in a future version. Use pandas.concat instead.\n",
      "  output = output.append(pd.DataFrame([[Name[j], Location[j], Rank[j], Overall[j], Academic[j], Employer[j], Citation[j], H_index[j], -1]], columns = col), ignore_index=True)\n",
      "C:\\Users\\MSI\\AppData\\Local\\Temp\\ipykernel_26616\\4148808711.py:108: FutureWarning: The frame.append method is deprecated and will be removed from pandas in a future version. Use pandas.concat instead.\n",
      "  output = output.append(pd.DataFrame([[Name[j], Location[j], Rank[j], Overall[j], Academic[j], Employer[j], Citation[j], H_index[j], -1]], columns = col), ignore_index=True)\n",
      "C:\\Users\\MSI\\AppData\\Local\\Temp\\ipykernel_26616\\4148808711.py:108: FutureWarning: The frame.append method is deprecated and will be removed from pandas in a future version. Use pandas.concat instead.\n",
      "  output = output.append(pd.DataFrame([[Name[j], Location[j], Rank[j], Overall[j], Academic[j], Employer[j], Citation[j], H_index[j], -1]], columns = col), ignore_index=True)\n",
      "C:\\Users\\MSI\\AppData\\Local\\Temp\\ipykernel_26616\\4148808711.py:108: FutureWarning: The frame.append method is deprecated and will be removed from pandas in a future version. Use pandas.concat instead.\n",
      "  output = output.append(pd.DataFrame([[Name[j], Location[j], Rank[j], Overall[j], Academic[j], Employer[j], Citation[j], H_index[j], -1]], columns = col), ignore_index=True)\n",
      "C:\\Users\\MSI\\AppData\\Local\\Temp\\ipykernel_26616\\4148808711.py:108: FutureWarning: The frame.append method is deprecated and will be removed from pandas in a future version. Use pandas.concat instead.\n",
      "  output = output.append(pd.DataFrame([[Name[j], Location[j], Rank[j], Overall[j], Academic[j], Employer[j], Citation[j], H_index[j], -1]], columns = col), ignore_index=True)\n",
      "C:\\Users\\MSI\\AppData\\Local\\Temp\\ipykernel_26616\\4148808711.py:108: FutureWarning: The frame.append method is deprecated and will be removed from pandas in a future version. Use pandas.concat instead.\n",
      "  output = output.append(pd.DataFrame([[Name[j], Location[j], Rank[j], Overall[j], Academic[j], Employer[j], Citation[j], H_index[j], -1]], columns = col), ignore_index=True)\n",
      "C:\\Users\\MSI\\AppData\\Local\\Temp\\ipykernel_26616\\4148808711.py:108: FutureWarning: The frame.append method is deprecated and will be removed from pandas in a future version. Use pandas.concat instead.\n",
      "  output = output.append(pd.DataFrame([[Name[j], Location[j], Rank[j], Overall[j], Academic[j], Employer[j], Citation[j], H_index[j], -1]], columns = col), ignore_index=True)\n",
      "C:\\Users\\MSI\\AppData\\Local\\Temp\\ipykernel_26616\\4148808711.py:108: FutureWarning: The frame.append method is deprecated and will be removed from pandas in a future version. Use pandas.concat instead.\n",
      "  output = output.append(pd.DataFrame([[Name[j], Location[j], Rank[j], Overall[j], Academic[j], Employer[j], Citation[j], H_index[j], -1]], columns = col), ignore_index=True)\n",
      "C:\\Users\\MSI\\AppData\\Local\\Temp\\ipykernel_26616\\4148808711.py:116: FutureWarning: save is not part of the public API, usage can give unexpected results and will be removed in a future version\n",
      "  writer.save()\n"
     ]
    },
    {
     "name": "stdout",
     "output_type": "stream",
     "text": [
      "crawling page 1\n"
     ]
    },
    {
     "name": "stderr",
     "output_type": "stream",
     "text": [
      "C:\\Users\\MSI\\AppData\\Local\\Temp\\ipykernel_26616\\4148808711.py:27: DeprecationWarning: executable_path has been deprecated, please pass in a Service object\n",
      "  browser = webdriver.Chrome(ChromeDriverManager().install(), chrome_options=options)\n",
      "C:\\Users\\MSI\\AppData\\Local\\Temp\\ipykernel_26616\\4148808711.py:27: DeprecationWarning: use options instead of chrome_options\n",
      "  browser = webdriver.Chrome(ChromeDriverManager().install(), chrome_options=options)\n"
     ]
    },
    {
     "name": "stdout",
     "output_type": "stream",
     "text": [
      "Stanford University 16 83.1 82.2\n",
      "University of California, Berkeley (UCB) 17 83 82.6\n",
      "Massachusetts Institute of Technology (MIT) 18 82.5 78.5\n",
      "King's College London 19 82 81\n",
      "University of Bristol 20 81.6 81\n",
      "The University of Edinburgh 21 80.9 77.8\n",
      "University of Chicago 22 80.2 80.6\n",
      "UCL 23 79.9 77.8\n",
      "KU Leuven 24 79.4 79.8\n",
      "Université Paris 1 Panthéon-Sorbonne 25 79.1 81.4\n",
      "Monash University 26 77.9 74.4\n",
      "Goethe-University Frankfurt am Main 27 77.8 80.4\n",
      "Macquarie University =28 77.6 75.1\n",
      "The University of Sydney =28 77.6 75\n",
      "Boston College 30 76.8 79\n",
      "done\n"
     ]
    },
    {
     "name": "stderr",
     "output_type": "stream",
     "text": [
      "C:\\Users\\MSI\\AppData\\Local\\Temp\\ipykernel_26616\\4148808711.py:108: FutureWarning: The frame.append method is deprecated and will be removed from pandas in a future version. Use pandas.concat instead.\n",
      "  output = output.append(pd.DataFrame([[Name[j], Location[j], Rank[j], Overall[j], Academic[j], Employer[j], Citation[j], H_index[j], -1]], columns = col), ignore_index=True)\n",
      "C:\\Users\\MSI\\AppData\\Local\\Temp\\ipykernel_26616\\4148808711.py:108: FutureWarning: The frame.append method is deprecated and will be removed from pandas in a future version. Use pandas.concat instead.\n",
      "  output = output.append(pd.DataFrame([[Name[j], Location[j], Rank[j], Overall[j], Academic[j], Employer[j], Citation[j], H_index[j], -1]], columns = col), ignore_index=True)\n",
      "C:\\Users\\MSI\\AppData\\Local\\Temp\\ipykernel_26616\\4148808711.py:108: FutureWarning: The frame.append method is deprecated and will be removed from pandas in a future version. Use pandas.concat instead.\n",
      "  output = output.append(pd.DataFrame([[Name[j], Location[j], Rank[j], Overall[j], Academic[j], Employer[j], Citation[j], H_index[j], -1]], columns = col), ignore_index=True)\n",
      "C:\\Users\\MSI\\AppData\\Local\\Temp\\ipykernel_26616\\4148808711.py:108: FutureWarning: The frame.append method is deprecated and will be removed from pandas in a future version. Use pandas.concat instead.\n",
      "  output = output.append(pd.DataFrame([[Name[j], Location[j], Rank[j], Overall[j], Academic[j], Employer[j], Citation[j], H_index[j], -1]], columns = col), ignore_index=True)\n",
      "C:\\Users\\MSI\\AppData\\Local\\Temp\\ipykernel_26616\\4148808711.py:108: FutureWarning: The frame.append method is deprecated and will be removed from pandas in a future version. Use pandas.concat instead.\n",
      "  output = output.append(pd.DataFrame([[Name[j], Location[j], Rank[j], Overall[j], Academic[j], Employer[j], Citation[j], H_index[j], -1]], columns = col), ignore_index=True)\n",
      "C:\\Users\\MSI\\AppData\\Local\\Temp\\ipykernel_26616\\4148808711.py:108: FutureWarning: The frame.append method is deprecated and will be removed from pandas in a future version. Use pandas.concat instead.\n",
      "  output = output.append(pd.DataFrame([[Name[j], Location[j], Rank[j], Overall[j], Academic[j], Employer[j], Citation[j], H_index[j], -1]], columns = col), ignore_index=True)\n",
      "C:\\Users\\MSI\\AppData\\Local\\Temp\\ipykernel_26616\\4148808711.py:108: FutureWarning: The frame.append method is deprecated and will be removed from pandas in a future version. Use pandas.concat instead.\n",
      "  output = output.append(pd.DataFrame([[Name[j], Location[j], Rank[j], Overall[j], Academic[j], Employer[j], Citation[j], H_index[j], -1]], columns = col), ignore_index=True)\n",
      "C:\\Users\\MSI\\AppData\\Local\\Temp\\ipykernel_26616\\4148808711.py:108: FutureWarning: The frame.append method is deprecated and will be removed from pandas in a future version. Use pandas.concat instead.\n",
      "  output = output.append(pd.DataFrame([[Name[j], Location[j], Rank[j], Overall[j], Academic[j], Employer[j], Citation[j], H_index[j], -1]], columns = col), ignore_index=True)\n",
      "C:\\Users\\MSI\\AppData\\Local\\Temp\\ipykernel_26616\\4148808711.py:108: FutureWarning: The frame.append method is deprecated and will be removed from pandas in a future version. Use pandas.concat instead.\n",
      "  output = output.append(pd.DataFrame([[Name[j], Location[j], Rank[j], Overall[j], Academic[j], Employer[j], Citation[j], H_index[j], -1]], columns = col), ignore_index=True)\n",
      "C:\\Users\\MSI\\AppData\\Local\\Temp\\ipykernel_26616\\4148808711.py:108: FutureWarning: The frame.append method is deprecated and will be removed from pandas in a future version. Use pandas.concat instead.\n",
      "  output = output.append(pd.DataFrame([[Name[j], Location[j], Rank[j], Overall[j], Academic[j], Employer[j], Citation[j], H_index[j], -1]], columns = col), ignore_index=True)\n",
      "C:\\Users\\MSI\\AppData\\Local\\Temp\\ipykernel_26616\\4148808711.py:108: FutureWarning: The frame.append method is deprecated and will be removed from pandas in a future version. Use pandas.concat instead.\n",
      "  output = output.append(pd.DataFrame([[Name[j], Location[j], Rank[j], Overall[j], Academic[j], Employer[j], Citation[j], H_index[j], -1]], columns = col), ignore_index=True)\n",
      "C:\\Users\\MSI\\AppData\\Local\\Temp\\ipykernel_26616\\4148808711.py:108: FutureWarning: The frame.append method is deprecated and will be removed from pandas in a future version. Use pandas.concat instead.\n",
      "  output = output.append(pd.DataFrame([[Name[j], Location[j], Rank[j], Overall[j], Academic[j], Employer[j], Citation[j], H_index[j], -1]], columns = col), ignore_index=True)\n",
      "C:\\Users\\MSI\\AppData\\Local\\Temp\\ipykernel_26616\\4148808711.py:108: FutureWarning: The frame.append method is deprecated and will be removed from pandas in a future version. Use pandas.concat instead.\n",
      "  output = output.append(pd.DataFrame([[Name[j], Location[j], Rank[j], Overall[j], Academic[j], Employer[j], Citation[j], H_index[j], -1]], columns = col), ignore_index=True)\n",
      "C:\\Users\\MSI\\AppData\\Local\\Temp\\ipykernel_26616\\4148808711.py:108: FutureWarning: The frame.append method is deprecated and will be removed from pandas in a future version. Use pandas.concat instead.\n",
      "  output = output.append(pd.DataFrame([[Name[j], Location[j], Rank[j], Overall[j], Academic[j], Employer[j], Citation[j], H_index[j], -1]], columns = col), ignore_index=True)\n",
      "C:\\Users\\MSI\\AppData\\Local\\Temp\\ipykernel_26616\\4148808711.py:108: FutureWarning: The frame.append method is deprecated and will be removed from pandas in a future version. Use pandas.concat instead.\n",
      "  output = output.append(pd.DataFrame([[Name[j], Location[j], Rank[j], Overall[j], Academic[j], Employer[j], Citation[j], H_index[j], -1]], columns = col), ignore_index=True)\n",
      "C:\\Users\\MSI\\AppData\\Local\\Temp\\ipykernel_26616\\4148808711.py:116: FutureWarning: save is not part of the public API, usage can give unexpected results and will be removed in a future version\n",
      "  writer.save()\n"
     ]
    },
    {
     "name": "stdout",
     "output_type": "stream",
     "text": [
      "crawling page 2\n"
     ]
    },
    {
     "name": "stderr",
     "output_type": "stream",
     "text": [
      "C:\\Users\\MSI\\AppData\\Local\\Temp\\ipykernel_26616\\4148808711.py:27: DeprecationWarning: executable_path has been deprecated, please pass in a Service object\n",
      "  browser = webdriver.Chrome(ChromeDriverManager().install(), chrome_options=options)\n",
      "C:\\Users\\MSI\\AppData\\Local\\Temp\\ipykernel_26616\\4148808711.py:27: DeprecationWarning: use options instead of chrome_options\n",
      "  browser = webdriver.Chrome(ChromeDriverManager().install(), chrome_options=options)\n"
     ]
    },
    {
     "name": "stdout",
     "output_type": "stream",
     "text": [
      "National University of Singapore (NUS) 31 76.4 73.8\n",
      "Durham University 32 75.8 74.4\n",
      "Université PSL 33 75.7 75.3\n",
      "Central European University =34 75.2 76.6\n",
      "University of Southern California =34 75.2 71.5\n",
      "Sorbonne University 36 74.8 76\n",
      "University of Amsterdam 37 74.4 70.9\n",
      "Freie Universitaet Berlin 38 74.3 75.6\n",
      "University of Leeds 39 73.9 70.6\n",
      "University of Michigan-Ann Arbor 40 73.8 70.4\n",
      "Lomonosov Moscow State University 41 73.7 73.8\n",
      "Université catholique de Louvain (UCLouvain) 42 73.5 77.4\n",
      "Wuhan University 43 73.4 77.3\n",
      "Peking University 44 73.3 75.3\n",
      "University of Turin 45 73 74.2\n",
      "done\n"
     ]
    },
    {
     "name": "stderr",
     "output_type": "stream",
     "text": [
      "C:\\Users\\MSI\\AppData\\Local\\Temp\\ipykernel_26616\\4148808711.py:108: FutureWarning: The frame.append method is deprecated and will be removed from pandas in a future version. Use pandas.concat instead.\n",
      "  output = output.append(pd.DataFrame([[Name[j], Location[j], Rank[j], Overall[j], Academic[j], Employer[j], Citation[j], H_index[j], -1]], columns = col), ignore_index=True)\n",
      "C:\\Users\\MSI\\AppData\\Local\\Temp\\ipykernel_26616\\4148808711.py:108: FutureWarning: The frame.append method is deprecated and will be removed from pandas in a future version. Use pandas.concat instead.\n",
      "  output = output.append(pd.DataFrame([[Name[j], Location[j], Rank[j], Overall[j], Academic[j], Employer[j], Citation[j], H_index[j], -1]], columns = col), ignore_index=True)\n",
      "C:\\Users\\MSI\\AppData\\Local\\Temp\\ipykernel_26616\\4148808711.py:108: FutureWarning: The frame.append method is deprecated and will be removed from pandas in a future version. Use pandas.concat instead.\n",
      "  output = output.append(pd.DataFrame([[Name[j], Location[j], Rank[j], Overall[j], Academic[j], Employer[j], Citation[j], H_index[j], -1]], columns = col), ignore_index=True)\n",
      "C:\\Users\\MSI\\AppData\\Local\\Temp\\ipykernel_26616\\4148808711.py:108: FutureWarning: The frame.append method is deprecated and will be removed from pandas in a future version. Use pandas.concat instead.\n",
      "  output = output.append(pd.DataFrame([[Name[j], Location[j], Rank[j], Overall[j], Academic[j], Employer[j], Citation[j], H_index[j], -1]], columns = col), ignore_index=True)\n",
      "C:\\Users\\MSI\\AppData\\Local\\Temp\\ipykernel_26616\\4148808711.py:108: FutureWarning: The frame.append method is deprecated and will be removed from pandas in a future version. Use pandas.concat instead.\n",
      "  output = output.append(pd.DataFrame([[Name[j], Location[j], Rank[j], Overall[j], Academic[j], Employer[j], Citation[j], H_index[j], -1]], columns = col), ignore_index=True)\n",
      "C:\\Users\\MSI\\AppData\\Local\\Temp\\ipykernel_26616\\4148808711.py:108: FutureWarning: The frame.append method is deprecated and will be removed from pandas in a future version. Use pandas.concat instead.\n",
      "  output = output.append(pd.DataFrame([[Name[j], Location[j], Rank[j], Overall[j], Academic[j], Employer[j], Citation[j], H_index[j], -1]], columns = col), ignore_index=True)\n",
      "C:\\Users\\MSI\\AppData\\Local\\Temp\\ipykernel_26616\\4148808711.py:108: FutureWarning: The frame.append method is deprecated and will be removed from pandas in a future version. Use pandas.concat instead.\n",
      "  output = output.append(pd.DataFrame([[Name[j], Location[j], Rank[j], Overall[j], Academic[j], Employer[j], Citation[j], H_index[j], -1]], columns = col), ignore_index=True)\n",
      "C:\\Users\\MSI\\AppData\\Local\\Temp\\ipykernel_26616\\4148808711.py:108: FutureWarning: The frame.append method is deprecated and will be removed from pandas in a future version. Use pandas.concat instead.\n",
      "  output = output.append(pd.DataFrame([[Name[j], Location[j], Rank[j], Overall[j], Academic[j], Employer[j], Citation[j], H_index[j], -1]], columns = col), ignore_index=True)\n",
      "C:\\Users\\MSI\\AppData\\Local\\Temp\\ipykernel_26616\\4148808711.py:108: FutureWarning: The frame.append method is deprecated and will be removed from pandas in a future version. Use pandas.concat instead.\n",
      "  output = output.append(pd.DataFrame([[Name[j], Location[j], Rank[j], Overall[j], Academic[j], Employer[j], Citation[j], H_index[j], -1]], columns = col), ignore_index=True)\n",
      "C:\\Users\\MSI\\AppData\\Local\\Temp\\ipykernel_26616\\4148808711.py:108: FutureWarning: The frame.append method is deprecated and will be removed from pandas in a future version. Use pandas.concat instead.\n",
      "  output = output.append(pd.DataFrame([[Name[j], Location[j], Rank[j], Overall[j], Academic[j], Employer[j], Citation[j], H_index[j], -1]], columns = col), ignore_index=True)\n",
      "C:\\Users\\MSI\\AppData\\Local\\Temp\\ipykernel_26616\\4148808711.py:108: FutureWarning: The frame.append method is deprecated and will be removed from pandas in a future version. Use pandas.concat instead.\n",
      "  output = output.append(pd.DataFrame([[Name[j], Location[j], Rank[j], Overall[j], Academic[j], Employer[j], Citation[j], H_index[j], -1]], columns = col), ignore_index=True)\n",
      "C:\\Users\\MSI\\AppData\\Local\\Temp\\ipykernel_26616\\4148808711.py:108: FutureWarning: The frame.append method is deprecated and will be removed from pandas in a future version. Use pandas.concat instead.\n",
      "  output = output.append(pd.DataFrame([[Name[j], Location[j], Rank[j], Overall[j], Academic[j], Employer[j], Citation[j], H_index[j], -1]], columns = col), ignore_index=True)\n",
      "C:\\Users\\MSI\\AppData\\Local\\Temp\\ipykernel_26616\\4148808711.py:108: FutureWarning: The frame.append method is deprecated and will be removed from pandas in a future version. Use pandas.concat instead.\n",
      "  output = output.append(pd.DataFrame([[Name[j], Location[j], Rank[j], Overall[j], Academic[j], Employer[j], Citation[j], H_index[j], -1]], columns = col), ignore_index=True)\n",
      "C:\\Users\\MSI\\AppData\\Local\\Temp\\ipykernel_26616\\4148808711.py:108: FutureWarning: The frame.append method is deprecated and will be removed from pandas in a future version. Use pandas.concat instead.\n",
      "  output = output.append(pd.DataFrame([[Name[j], Location[j], Rank[j], Overall[j], Academic[j], Employer[j], Citation[j], H_index[j], -1]], columns = col), ignore_index=True)\n",
      "C:\\Users\\MSI\\AppData\\Local\\Temp\\ipykernel_26616\\4148808711.py:108: FutureWarning: The frame.append method is deprecated and will be removed from pandas in a future version. Use pandas.concat instead.\n",
      "  output = output.append(pd.DataFrame([[Name[j], Location[j], Rank[j], Overall[j], Academic[j], Employer[j], Citation[j], H_index[j], -1]], columns = col), ignore_index=True)\n",
      "C:\\Users\\MSI\\AppData\\Local\\Temp\\ipykernel_26616\\4148808711.py:116: FutureWarning: save is not part of the public API, usage can give unexpected results and will be removed in a future version\n",
      "  writer.save()\n"
     ]
    },
    {
     "name": "stdout",
     "output_type": "stream",
     "text": [
      "crawling page 3\n"
     ]
    },
    {
     "name": "stderr",
     "output_type": "stream",
     "text": [
      "C:\\Users\\MSI\\AppData\\Local\\Temp\\ipykernel_26616\\4148808711.py:27: DeprecationWarning: executable_path has been deprecated, please pass in a Service object\n",
      "  browser = webdriver.Chrome(ChromeDriverManager().install(), chrome_options=options)\n",
      "C:\\Users\\MSI\\AppData\\Local\\Temp\\ipykernel_26616\\4148808711.py:27: DeprecationWarning: use options instead of chrome_options\n",
      "  browser = webdriver.Chrome(ChromeDriverManager().install(), chrome_options=options)\n"
     ]
    },
    {
     "name": "stdout",
     "output_type": "stream",
     "text": [
      "Fudan University =46 72.8 77.2\n",
      "Universitat de Barcelona =46 72.8 72.1\n",
      "University of Geneva 48 72.4 70.6\n",
      "University of Vienna 49 72.2 69.8\n",
      "Sun Yat-sen University 50 72.1 74.8\n",
      "Beijing Normal University 51-100 - 73.3\n",
      "Birkbeck, University of London 51-100 - 64.5\n",
      "Boston University 51-100 - 62.4\n",
      "Brown University 51-100 - 64.2\n",
      "City University of New York 51-100 - 67.6\n",
      "Columbia University 51-100 - 66.1\n",
      "Cornell University 51-100 - 65.7\n",
      "East China Normal University 51-100 - 68.9\n",
      "Eberhard Karls Universität Tübingen 51-100 - 70.6\n",
      "Georgetown University 51-100 - 63.4\n",
      "done\n"
     ]
    },
    {
     "name": "stderr",
     "output_type": "stream",
     "text": [
      "C:\\Users\\MSI\\AppData\\Local\\Temp\\ipykernel_26616\\4148808711.py:108: FutureWarning: The frame.append method is deprecated and will be removed from pandas in a future version. Use pandas.concat instead.\n",
      "  output = output.append(pd.DataFrame([[Name[j], Location[j], Rank[j], Overall[j], Academic[j], Employer[j], Citation[j], H_index[j], -1]], columns = col), ignore_index=True)\n",
      "C:\\Users\\MSI\\AppData\\Local\\Temp\\ipykernel_26616\\4148808711.py:108: FutureWarning: The frame.append method is deprecated and will be removed from pandas in a future version. Use pandas.concat instead.\n",
      "  output = output.append(pd.DataFrame([[Name[j], Location[j], Rank[j], Overall[j], Academic[j], Employer[j], Citation[j], H_index[j], -1]], columns = col), ignore_index=True)\n",
      "C:\\Users\\MSI\\AppData\\Local\\Temp\\ipykernel_26616\\4148808711.py:108: FutureWarning: The frame.append method is deprecated and will be removed from pandas in a future version. Use pandas.concat instead.\n",
      "  output = output.append(pd.DataFrame([[Name[j], Location[j], Rank[j], Overall[j], Academic[j], Employer[j], Citation[j], H_index[j], -1]], columns = col), ignore_index=True)\n",
      "C:\\Users\\MSI\\AppData\\Local\\Temp\\ipykernel_26616\\4148808711.py:108: FutureWarning: The frame.append method is deprecated and will be removed from pandas in a future version. Use pandas.concat instead.\n",
      "  output = output.append(pd.DataFrame([[Name[j], Location[j], Rank[j], Overall[j], Academic[j], Employer[j], Citation[j], H_index[j], -1]], columns = col), ignore_index=True)\n",
      "C:\\Users\\MSI\\AppData\\Local\\Temp\\ipykernel_26616\\4148808711.py:108: FutureWarning: The frame.append method is deprecated and will be removed from pandas in a future version. Use pandas.concat instead.\n",
      "  output = output.append(pd.DataFrame([[Name[j], Location[j], Rank[j], Overall[j], Academic[j], Employer[j], Citation[j], H_index[j], -1]], columns = col), ignore_index=True)\n",
      "C:\\Users\\MSI\\AppData\\Local\\Temp\\ipykernel_26616\\4148808711.py:108: FutureWarning: The frame.append method is deprecated and will be removed from pandas in a future version. Use pandas.concat instead.\n",
      "  output = output.append(pd.DataFrame([[Name[j], Location[j], Rank[j], Overall[j], Academic[j], Employer[j], Citation[j], H_index[j], -1]], columns = col), ignore_index=True)\n",
      "C:\\Users\\MSI\\AppData\\Local\\Temp\\ipykernel_26616\\4148808711.py:108: FutureWarning: The frame.append method is deprecated and will be removed from pandas in a future version. Use pandas.concat instead.\n",
      "  output = output.append(pd.DataFrame([[Name[j], Location[j], Rank[j], Overall[j], Academic[j], Employer[j], Citation[j], H_index[j], -1]], columns = col), ignore_index=True)\n",
      "C:\\Users\\MSI\\AppData\\Local\\Temp\\ipykernel_26616\\4148808711.py:108: FutureWarning: The frame.append method is deprecated and will be removed from pandas in a future version. Use pandas.concat instead.\n",
      "  output = output.append(pd.DataFrame([[Name[j], Location[j], Rank[j], Overall[j], Academic[j], Employer[j], Citation[j], H_index[j], -1]], columns = col), ignore_index=True)\n",
      "C:\\Users\\MSI\\AppData\\Local\\Temp\\ipykernel_26616\\4148808711.py:108: FutureWarning: The frame.append method is deprecated and will be removed from pandas in a future version. Use pandas.concat instead.\n",
      "  output = output.append(pd.DataFrame([[Name[j], Location[j], Rank[j], Overall[j], Academic[j], Employer[j], Citation[j], H_index[j], -1]], columns = col), ignore_index=True)\n",
      "C:\\Users\\MSI\\AppData\\Local\\Temp\\ipykernel_26616\\4148808711.py:108: FutureWarning: The frame.append method is deprecated and will be removed from pandas in a future version. Use pandas.concat instead.\n",
      "  output = output.append(pd.DataFrame([[Name[j], Location[j], Rank[j], Overall[j], Academic[j], Employer[j], Citation[j], H_index[j], -1]], columns = col), ignore_index=True)\n",
      "C:\\Users\\MSI\\AppData\\Local\\Temp\\ipykernel_26616\\4148808711.py:108: FutureWarning: The frame.append method is deprecated and will be removed from pandas in a future version. Use pandas.concat instead.\n",
      "  output = output.append(pd.DataFrame([[Name[j], Location[j], Rank[j], Overall[j], Academic[j], Employer[j], Citation[j], H_index[j], -1]], columns = col), ignore_index=True)\n",
      "C:\\Users\\MSI\\AppData\\Local\\Temp\\ipykernel_26616\\4148808711.py:108: FutureWarning: The frame.append method is deprecated and will be removed from pandas in a future version. Use pandas.concat instead.\n",
      "  output = output.append(pd.DataFrame([[Name[j], Location[j], Rank[j], Overall[j], Academic[j], Employer[j], Citation[j], H_index[j], -1]], columns = col), ignore_index=True)\n",
      "C:\\Users\\MSI\\AppData\\Local\\Temp\\ipykernel_26616\\4148808711.py:108: FutureWarning: The frame.append method is deprecated and will be removed from pandas in a future version. Use pandas.concat instead.\n",
      "  output = output.append(pd.DataFrame([[Name[j], Location[j], Rank[j], Overall[j], Academic[j], Employer[j], Citation[j], H_index[j], -1]], columns = col), ignore_index=True)\n",
      "C:\\Users\\MSI\\AppData\\Local\\Temp\\ipykernel_26616\\4148808711.py:108: FutureWarning: The frame.append method is deprecated and will be removed from pandas in a future version. Use pandas.concat instead.\n",
      "  output = output.append(pd.DataFrame([[Name[j], Location[j], Rank[j], Overall[j], Academic[j], Employer[j], Citation[j], H_index[j], -1]], columns = col), ignore_index=True)\n",
      "C:\\Users\\MSI\\AppData\\Local\\Temp\\ipykernel_26616\\4148808711.py:108: FutureWarning: The frame.append method is deprecated and will be removed from pandas in a future version. Use pandas.concat instead.\n",
      "  output = output.append(pd.DataFrame([[Name[j], Location[j], Rank[j], Overall[j], Academic[j], Employer[j], Citation[j], H_index[j], -1]], columns = col), ignore_index=True)\n",
      "C:\\Users\\MSI\\AppData\\Local\\Temp\\ipykernel_26616\\4148808711.py:116: FutureWarning: save is not part of the public API, usage can give unexpected results and will be removed in a future version\n",
      "  writer.save()\n"
     ]
    },
    {
     "name": "stdout",
     "output_type": "stream",
     "text": [
      "crawling page 4\n"
     ]
    },
    {
     "name": "stderr",
     "output_type": "stream",
     "text": [
      "C:\\Users\\MSI\\AppData\\Local\\Temp\\ipykernel_26616\\4148808711.py:27: DeprecationWarning: executable_path has been deprecated, please pass in a Service object\n",
      "  browser = webdriver.Chrome(ChromeDriverManager().install(), chrome_options=options)\n",
      "C:\\Users\\MSI\\AppData\\Local\\Temp\\ipykernel_26616\\4148808711.py:27: DeprecationWarning: use options instead of chrome_options\n",
      "  browser = webdriver.Chrome(ChromeDriverManager().install(), chrome_options=options)\n"
     ]
    },
    {
     "name": "stdout",
     "output_type": "stream",
     "text": [
      "Johns Hopkins University 51-100 - 64.4\n",
      "Kyoto University 51-100 - 72.1\n",
      "McGill University 51-100 - 67.3\n",
      "Northwestern University 51-100 - 63.6\n",
      "Renmin (People's) University of China 51-100 - 78\n",
      "Rheinische Friedrich-Wilhelms-Universität Bonn 51-100 - 68.5\n",
      "Universität Heidelberg 51-100 - 69.8\n",
      "Sapienza University of Rome 51-100 - 65.4\n",
      "The Chinese University of Hong Kong (CUHK) 51-100 - 74.7\n",
      "The University of Adelaide 51-100 - 67.3\n",
      "University of Exeter 51-100 - 60.7\n",
      "The University of Melbourne 51-100 - 67.1\n",
      "The University of New South Wales (UNSW Sydney) 51-100 - 62.8\n",
      "The University of Queensland 51-100 - 64.4\n",
      "The University of Sheffield 51-100 - 66.2\n",
      "done\n"
     ]
    },
    {
     "name": "stderr",
     "output_type": "stream",
     "text": [
      "C:\\Users\\MSI\\AppData\\Local\\Temp\\ipykernel_26616\\4148808711.py:108: FutureWarning: The frame.append method is deprecated and will be removed from pandas in a future version. Use pandas.concat instead.\n",
      "  output = output.append(pd.DataFrame([[Name[j], Location[j], Rank[j], Overall[j], Academic[j], Employer[j], Citation[j], H_index[j], -1]], columns = col), ignore_index=True)\n",
      "C:\\Users\\MSI\\AppData\\Local\\Temp\\ipykernel_26616\\4148808711.py:108: FutureWarning: The frame.append method is deprecated and will be removed from pandas in a future version. Use pandas.concat instead.\n",
      "  output = output.append(pd.DataFrame([[Name[j], Location[j], Rank[j], Overall[j], Academic[j], Employer[j], Citation[j], H_index[j], -1]], columns = col), ignore_index=True)\n",
      "C:\\Users\\MSI\\AppData\\Local\\Temp\\ipykernel_26616\\4148808711.py:108: FutureWarning: The frame.append method is deprecated and will be removed from pandas in a future version. Use pandas.concat instead.\n",
      "  output = output.append(pd.DataFrame([[Name[j], Location[j], Rank[j], Overall[j], Academic[j], Employer[j], Citation[j], H_index[j], -1]], columns = col), ignore_index=True)\n",
      "C:\\Users\\MSI\\AppData\\Local\\Temp\\ipykernel_26616\\4148808711.py:108: FutureWarning: The frame.append method is deprecated and will be removed from pandas in a future version. Use pandas.concat instead.\n",
      "  output = output.append(pd.DataFrame([[Name[j], Location[j], Rank[j], Overall[j], Academic[j], Employer[j], Citation[j], H_index[j], -1]], columns = col), ignore_index=True)\n",
      "C:\\Users\\MSI\\AppData\\Local\\Temp\\ipykernel_26616\\4148808711.py:108: FutureWarning: The frame.append method is deprecated and will be removed from pandas in a future version. Use pandas.concat instead.\n",
      "  output = output.append(pd.DataFrame([[Name[j], Location[j], Rank[j], Overall[j], Academic[j], Employer[j], Citation[j], H_index[j], -1]], columns = col), ignore_index=True)\n",
      "C:\\Users\\MSI\\AppData\\Local\\Temp\\ipykernel_26616\\4148808711.py:108: FutureWarning: The frame.append method is deprecated and will be removed from pandas in a future version. Use pandas.concat instead.\n",
      "  output = output.append(pd.DataFrame([[Name[j], Location[j], Rank[j], Overall[j], Academic[j], Employer[j], Citation[j], H_index[j], -1]], columns = col), ignore_index=True)\n",
      "C:\\Users\\MSI\\AppData\\Local\\Temp\\ipykernel_26616\\4148808711.py:108: FutureWarning: The frame.append method is deprecated and will be removed from pandas in a future version. Use pandas.concat instead.\n",
      "  output = output.append(pd.DataFrame([[Name[j], Location[j], Rank[j], Overall[j], Academic[j], Employer[j], Citation[j], H_index[j], -1]], columns = col), ignore_index=True)\n",
      "C:\\Users\\MSI\\AppData\\Local\\Temp\\ipykernel_26616\\4148808711.py:108: FutureWarning: The frame.append method is deprecated and will be removed from pandas in a future version. Use pandas.concat instead.\n",
      "  output = output.append(pd.DataFrame([[Name[j], Location[j], Rank[j], Overall[j], Academic[j], Employer[j], Citation[j], H_index[j], -1]], columns = col), ignore_index=True)\n",
      "C:\\Users\\MSI\\AppData\\Local\\Temp\\ipykernel_26616\\4148808711.py:108: FutureWarning: The frame.append method is deprecated and will be removed from pandas in a future version. Use pandas.concat instead.\n",
      "  output = output.append(pd.DataFrame([[Name[j], Location[j], Rank[j], Overall[j], Academic[j], Employer[j], Citation[j], H_index[j], -1]], columns = col), ignore_index=True)\n",
      "C:\\Users\\MSI\\AppData\\Local\\Temp\\ipykernel_26616\\4148808711.py:108: FutureWarning: The frame.append method is deprecated and will be removed from pandas in a future version. Use pandas.concat instead.\n",
      "  output = output.append(pd.DataFrame([[Name[j], Location[j], Rank[j], Overall[j], Academic[j], Employer[j], Citation[j], H_index[j], -1]], columns = col), ignore_index=True)\n",
      "C:\\Users\\MSI\\AppData\\Local\\Temp\\ipykernel_26616\\4148808711.py:108: FutureWarning: The frame.append method is deprecated and will be removed from pandas in a future version. Use pandas.concat instead.\n",
      "  output = output.append(pd.DataFrame([[Name[j], Location[j], Rank[j], Overall[j], Academic[j], Employer[j], Citation[j], H_index[j], -1]], columns = col), ignore_index=True)\n",
      "C:\\Users\\MSI\\AppData\\Local\\Temp\\ipykernel_26616\\4148808711.py:108: FutureWarning: The frame.append method is deprecated and will be removed from pandas in a future version. Use pandas.concat instead.\n",
      "  output = output.append(pd.DataFrame([[Name[j], Location[j], Rank[j], Overall[j], Academic[j], Employer[j], Citation[j], H_index[j], -1]], columns = col), ignore_index=True)\n",
      "C:\\Users\\MSI\\AppData\\Local\\Temp\\ipykernel_26616\\4148808711.py:108: FutureWarning: The frame.append method is deprecated and will be removed from pandas in a future version. Use pandas.concat instead.\n",
      "  output = output.append(pd.DataFrame([[Name[j], Location[j], Rank[j], Overall[j], Academic[j], Employer[j], Citation[j], H_index[j], -1]], columns = col), ignore_index=True)\n",
      "C:\\Users\\MSI\\AppData\\Local\\Temp\\ipykernel_26616\\4148808711.py:108: FutureWarning: The frame.append method is deprecated and will be removed from pandas in a future version. Use pandas.concat instead.\n",
      "  output = output.append(pd.DataFrame([[Name[j], Location[j], Rank[j], Overall[j], Academic[j], Employer[j], Citation[j], H_index[j], -1]], columns = col), ignore_index=True)\n",
      "C:\\Users\\MSI\\AppData\\Local\\Temp\\ipykernel_26616\\4148808711.py:108: FutureWarning: The frame.append method is deprecated and will be removed from pandas in a future version. Use pandas.concat instead.\n",
      "  output = output.append(pd.DataFrame([[Name[j], Location[j], Rank[j], Overall[j], Academic[j], Employer[j], Citation[j], H_index[j], -1]], columns = col), ignore_index=True)\n",
      "C:\\Users\\MSI\\AppData\\Local\\Temp\\ipykernel_26616\\4148808711.py:116: FutureWarning: save is not part of the public API, usage can give unexpected results and will be removed in a future version\n",
      "  writer.save()\n"
     ]
    },
    {
     "name": "stdout",
     "output_type": "stream",
     "text": [
      "crawling page 5\n"
     ]
    },
    {
     "name": "stderr",
     "output_type": "stream",
     "text": [
      "C:\\Users\\MSI\\AppData\\Local\\Temp\\ipykernel_26616\\4148808711.py:27: DeprecationWarning: executable_path has been deprecated, please pass in a Service object\n",
      "  browser = webdriver.Chrome(ChromeDriverManager().install(), chrome_options=options)\n",
      "C:\\Users\\MSI\\AppData\\Local\\Temp\\ipykernel_26616\\4148808711.py:27: DeprecationWarning: use options instead of chrome_options\n",
      "  browser = webdriver.Chrome(ChromeDriverManager().install(), chrome_options=options)\n"
     ]
    },
    {
     "name": "stdout",
     "output_type": "stream",
     "text": [
      "The University of Warwick 51-100 - 67\n",
      "Trinity College Dublin, The University of Dublin 51-100 - 66.2\n",
      "Tsinghua University 51-100 - 70\n",
      "Universidad Nacional Autónoma de México (UNAM) 51-100 - 67.7\n",
      "Universidad Panamericana (UP) 51-100 - 71.7\n",
      "University College Dublin 51-100 - 65.4\n",
      "University of California, Irvine 51-100 - 66.5\n",
      "University of California, Los Angeles (UCLA) 51-100 - 62.6\n",
      "University of Copenhagen 51-100 - 68.4\n",
      "University of Glasgow 51-100 - 68.8\n",
      "University of Groningen 51-100 - 64.3\n",
      "University of Helsinki 51-100 - 66.6\n",
      "University of Milan 51-100 - 68.5\n",
      "University of Navarra 51-100 - 71.1\n",
      "University of North Carolina at Chapel Hill 51-100 - 64.8\n",
      "done\n"
     ]
    },
    {
     "name": "stderr",
     "output_type": "stream",
     "text": [
      "C:\\Users\\MSI\\AppData\\Local\\Temp\\ipykernel_26616\\4148808711.py:108: FutureWarning: The frame.append method is deprecated and will be removed from pandas in a future version. Use pandas.concat instead.\n",
      "  output = output.append(pd.DataFrame([[Name[j], Location[j], Rank[j], Overall[j], Academic[j], Employer[j], Citation[j], H_index[j], -1]], columns = col), ignore_index=True)\n",
      "C:\\Users\\MSI\\AppData\\Local\\Temp\\ipykernel_26616\\4148808711.py:108: FutureWarning: The frame.append method is deprecated and will be removed from pandas in a future version. Use pandas.concat instead.\n",
      "  output = output.append(pd.DataFrame([[Name[j], Location[j], Rank[j], Overall[j], Academic[j], Employer[j], Citation[j], H_index[j], -1]], columns = col), ignore_index=True)\n",
      "C:\\Users\\MSI\\AppData\\Local\\Temp\\ipykernel_26616\\4148808711.py:108: FutureWarning: The frame.append method is deprecated and will be removed from pandas in a future version. Use pandas.concat instead.\n",
      "  output = output.append(pd.DataFrame([[Name[j], Location[j], Rank[j], Overall[j], Academic[j], Employer[j], Citation[j], H_index[j], -1]], columns = col), ignore_index=True)\n",
      "C:\\Users\\MSI\\AppData\\Local\\Temp\\ipykernel_26616\\4148808711.py:108: FutureWarning: The frame.append method is deprecated and will be removed from pandas in a future version. Use pandas.concat instead.\n",
      "  output = output.append(pd.DataFrame([[Name[j], Location[j], Rank[j], Overall[j], Academic[j], Employer[j], Citation[j], H_index[j], -1]], columns = col), ignore_index=True)\n",
      "C:\\Users\\MSI\\AppData\\Local\\Temp\\ipykernel_26616\\4148808711.py:108: FutureWarning: The frame.append method is deprecated and will be removed from pandas in a future version. Use pandas.concat instead.\n",
      "  output = output.append(pd.DataFrame([[Name[j], Location[j], Rank[j], Overall[j], Academic[j], Employer[j], Citation[j], H_index[j], -1]], columns = col), ignore_index=True)\n",
      "C:\\Users\\MSI\\AppData\\Local\\Temp\\ipykernel_26616\\4148808711.py:108: FutureWarning: The frame.append method is deprecated and will be removed from pandas in a future version. Use pandas.concat instead.\n",
      "  output = output.append(pd.DataFrame([[Name[j], Location[j], Rank[j], Overall[j], Academic[j], Employer[j], Citation[j], H_index[j], -1]], columns = col), ignore_index=True)\n",
      "C:\\Users\\MSI\\AppData\\Local\\Temp\\ipykernel_26616\\4148808711.py:108: FutureWarning: The frame.append method is deprecated and will be removed from pandas in a future version. Use pandas.concat instead.\n",
      "  output = output.append(pd.DataFrame([[Name[j], Location[j], Rank[j], Overall[j], Academic[j], Employer[j], Citation[j], H_index[j], -1]], columns = col), ignore_index=True)\n",
      "C:\\Users\\MSI\\AppData\\Local\\Temp\\ipykernel_26616\\4148808711.py:108: FutureWarning: The frame.append method is deprecated and will be removed from pandas in a future version. Use pandas.concat instead.\n",
      "  output = output.append(pd.DataFrame([[Name[j], Location[j], Rank[j], Overall[j], Academic[j], Employer[j], Citation[j], H_index[j], -1]], columns = col), ignore_index=True)\n",
      "C:\\Users\\MSI\\AppData\\Local\\Temp\\ipykernel_26616\\4148808711.py:108: FutureWarning: The frame.append method is deprecated and will be removed from pandas in a future version. Use pandas.concat instead.\n",
      "  output = output.append(pd.DataFrame([[Name[j], Location[j], Rank[j], Overall[j], Academic[j], Employer[j], Citation[j], H_index[j], -1]], columns = col), ignore_index=True)\n",
      "C:\\Users\\MSI\\AppData\\Local\\Temp\\ipykernel_26616\\4148808711.py:108: FutureWarning: The frame.append method is deprecated and will be removed from pandas in a future version. Use pandas.concat instead.\n",
      "  output = output.append(pd.DataFrame([[Name[j], Location[j], Rank[j], Overall[j], Academic[j], Employer[j], Citation[j], H_index[j], -1]], columns = col), ignore_index=True)\n",
      "C:\\Users\\MSI\\AppData\\Local\\Temp\\ipykernel_26616\\4148808711.py:108: FutureWarning: The frame.append method is deprecated and will be removed from pandas in a future version. Use pandas.concat instead.\n",
      "  output = output.append(pd.DataFrame([[Name[j], Location[j], Rank[j], Overall[j], Academic[j], Employer[j], Citation[j], H_index[j], -1]], columns = col), ignore_index=True)\n",
      "C:\\Users\\MSI\\AppData\\Local\\Temp\\ipykernel_26616\\4148808711.py:108: FutureWarning: The frame.append method is deprecated and will be removed from pandas in a future version. Use pandas.concat instead.\n",
      "  output = output.append(pd.DataFrame([[Name[j], Location[j], Rank[j], Overall[j], Academic[j], Employer[j], Citation[j], H_index[j], -1]], columns = col), ignore_index=True)\n",
      "C:\\Users\\MSI\\AppData\\Local\\Temp\\ipykernel_26616\\4148808711.py:108: FutureWarning: The frame.append method is deprecated and will be removed from pandas in a future version. Use pandas.concat instead.\n",
      "  output = output.append(pd.DataFrame([[Name[j], Location[j], Rank[j], Overall[j], Academic[j], Employer[j], Citation[j], H_index[j], -1]], columns = col), ignore_index=True)\n",
      "C:\\Users\\MSI\\AppData\\Local\\Temp\\ipykernel_26616\\4148808711.py:108: FutureWarning: The frame.append method is deprecated and will be removed from pandas in a future version. Use pandas.concat instead.\n",
      "  output = output.append(pd.DataFrame([[Name[j], Location[j], Rank[j], Overall[j], Academic[j], Employer[j], Citation[j], H_index[j], -1]], columns = col), ignore_index=True)\n",
      "C:\\Users\\MSI\\AppData\\Local\\Temp\\ipykernel_26616\\4148808711.py:108: FutureWarning: The frame.append method is deprecated and will be removed from pandas in a future version. Use pandas.concat instead.\n",
      "  output = output.append(pd.DataFrame([[Name[j], Location[j], Rank[j], Overall[j], Academic[j], Employer[j], Citation[j], H_index[j], -1]], columns = col), ignore_index=True)\n",
      "C:\\Users\\MSI\\AppData\\Local\\Temp\\ipykernel_26616\\4148808711.py:116: FutureWarning: save is not part of the public API, usage can give unexpected results and will be removed in a future version\n",
      "  writer.save()\n"
     ]
    },
    {
     "name": "stdout",
     "output_type": "stream",
     "text": [
      "crawling page 6\n"
     ]
    },
    {
     "name": "stderr",
     "output_type": "stream",
     "text": [
      "C:\\Users\\MSI\\AppData\\Local\\Temp\\ipykernel_26616\\4148808711.py:27: DeprecationWarning: executable_path has been deprecated, please pass in a Service object\n",
      "  browser = webdriver.Chrome(ChromeDriverManager().install(), chrome_options=options)\n",
      "C:\\Users\\MSI\\AppData\\Local\\Temp\\ipykernel_26616\\4148808711.py:27: DeprecationWarning: use options instead of chrome_options\n",
      "  browser = webdriver.Chrome(ChromeDriverManager().install(), chrome_options=options)\n"
     ]
    },
    {
     "name": "stdout",
     "output_type": "stream",
     "text": [
      "University of Nottingham 51-100 - 62\n",
      "University of Oslo 51-100 - 67.9\n",
      "University of Southampton 51-100 - 59.5\n",
      "University of Texas at Austin 51-100 - 63.9\n",
      "Ural Federal University - UrFU 51-100 - 69.7\n",
      "Utrecht University 51-100 - 66.3\n",
      "Vrije Universiteit Amsterdam 51-100 - 72.2\n",
      "Western University 51-100 - 68.1\n",
      "York University 51-100 - 64.7\n",
      "Zhejiang University 51-100 - 70.7\n",
      "Al-Farabi Kazakh National University 101-150 - 65.9\n",
      "Albert-Ludwigs-Universitaet Freiburg 101-150 - 64\n",
      "Bielefeld University 101-150 - 65.3\n",
      "Duke University 101-150 - 55.2\n",
      "Ecole des Hautes Etudes en Sciences Sociales 101-150 - 61.5\n",
      "done\n"
     ]
    },
    {
     "name": "stderr",
     "output_type": "stream",
     "text": [
      "C:\\Users\\MSI\\AppData\\Local\\Temp\\ipykernel_26616\\4148808711.py:108: FutureWarning: The frame.append method is deprecated and will be removed from pandas in a future version. Use pandas.concat instead.\n",
      "  output = output.append(pd.DataFrame([[Name[j], Location[j], Rank[j], Overall[j], Academic[j], Employer[j], Citation[j], H_index[j], -1]], columns = col), ignore_index=True)\n",
      "C:\\Users\\MSI\\AppData\\Local\\Temp\\ipykernel_26616\\4148808711.py:108: FutureWarning: The frame.append method is deprecated and will be removed from pandas in a future version. Use pandas.concat instead.\n",
      "  output = output.append(pd.DataFrame([[Name[j], Location[j], Rank[j], Overall[j], Academic[j], Employer[j], Citation[j], H_index[j], -1]], columns = col), ignore_index=True)\n",
      "C:\\Users\\MSI\\AppData\\Local\\Temp\\ipykernel_26616\\4148808711.py:108: FutureWarning: The frame.append method is deprecated and will be removed from pandas in a future version. Use pandas.concat instead.\n",
      "  output = output.append(pd.DataFrame([[Name[j], Location[j], Rank[j], Overall[j], Academic[j], Employer[j], Citation[j], H_index[j], -1]], columns = col), ignore_index=True)\n",
      "C:\\Users\\MSI\\AppData\\Local\\Temp\\ipykernel_26616\\4148808711.py:108: FutureWarning: The frame.append method is deprecated and will be removed from pandas in a future version. Use pandas.concat instead.\n",
      "  output = output.append(pd.DataFrame([[Name[j], Location[j], Rank[j], Overall[j], Academic[j], Employer[j], Citation[j], H_index[j], -1]], columns = col), ignore_index=True)\n",
      "C:\\Users\\MSI\\AppData\\Local\\Temp\\ipykernel_26616\\4148808711.py:108: FutureWarning: The frame.append method is deprecated and will be removed from pandas in a future version. Use pandas.concat instead.\n",
      "  output = output.append(pd.DataFrame([[Name[j], Location[j], Rank[j], Overall[j], Academic[j], Employer[j], Citation[j], H_index[j], -1]], columns = col), ignore_index=True)\n",
      "C:\\Users\\MSI\\AppData\\Local\\Temp\\ipykernel_26616\\4148808711.py:108: FutureWarning: The frame.append method is deprecated and will be removed from pandas in a future version. Use pandas.concat instead.\n",
      "  output = output.append(pd.DataFrame([[Name[j], Location[j], Rank[j], Overall[j], Academic[j], Employer[j], Citation[j], H_index[j], -1]], columns = col), ignore_index=True)\n",
      "C:\\Users\\MSI\\AppData\\Local\\Temp\\ipykernel_26616\\4148808711.py:108: FutureWarning: The frame.append method is deprecated and will be removed from pandas in a future version. Use pandas.concat instead.\n",
      "  output = output.append(pd.DataFrame([[Name[j], Location[j], Rank[j], Overall[j], Academic[j], Employer[j], Citation[j], H_index[j], -1]], columns = col), ignore_index=True)\n",
      "C:\\Users\\MSI\\AppData\\Local\\Temp\\ipykernel_26616\\4148808711.py:108: FutureWarning: The frame.append method is deprecated and will be removed from pandas in a future version. Use pandas.concat instead.\n",
      "  output = output.append(pd.DataFrame([[Name[j], Location[j], Rank[j], Overall[j], Academic[j], Employer[j], Citation[j], H_index[j], -1]], columns = col), ignore_index=True)\n",
      "C:\\Users\\MSI\\AppData\\Local\\Temp\\ipykernel_26616\\4148808711.py:108: FutureWarning: The frame.append method is deprecated and will be removed from pandas in a future version. Use pandas.concat instead.\n",
      "  output = output.append(pd.DataFrame([[Name[j], Location[j], Rank[j], Overall[j], Academic[j], Employer[j], Citation[j], H_index[j], -1]], columns = col), ignore_index=True)\n",
      "C:\\Users\\MSI\\AppData\\Local\\Temp\\ipykernel_26616\\4148808711.py:108: FutureWarning: The frame.append method is deprecated and will be removed from pandas in a future version. Use pandas.concat instead.\n",
      "  output = output.append(pd.DataFrame([[Name[j], Location[j], Rank[j], Overall[j], Academic[j], Employer[j], Citation[j], H_index[j], -1]], columns = col), ignore_index=True)\n",
      "C:\\Users\\MSI\\AppData\\Local\\Temp\\ipykernel_26616\\4148808711.py:108: FutureWarning: The frame.append method is deprecated and will be removed from pandas in a future version. Use pandas.concat instead.\n",
      "  output = output.append(pd.DataFrame([[Name[j], Location[j], Rank[j], Overall[j], Academic[j], Employer[j], Citation[j], H_index[j], -1]], columns = col), ignore_index=True)\n",
      "C:\\Users\\MSI\\AppData\\Local\\Temp\\ipykernel_26616\\4148808711.py:108: FutureWarning: The frame.append method is deprecated and will be removed from pandas in a future version. Use pandas.concat instead.\n",
      "  output = output.append(pd.DataFrame([[Name[j], Location[j], Rank[j], Overall[j], Academic[j], Employer[j], Citation[j], H_index[j], -1]], columns = col), ignore_index=True)\n",
      "C:\\Users\\MSI\\AppData\\Local\\Temp\\ipykernel_26616\\4148808711.py:108: FutureWarning: The frame.append method is deprecated and will be removed from pandas in a future version. Use pandas.concat instead.\n",
      "  output = output.append(pd.DataFrame([[Name[j], Location[j], Rank[j], Overall[j], Academic[j], Employer[j], Citation[j], H_index[j], -1]], columns = col), ignore_index=True)\n",
      "C:\\Users\\MSI\\AppData\\Local\\Temp\\ipykernel_26616\\4148808711.py:108: FutureWarning: The frame.append method is deprecated and will be removed from pandas in a future version. Use pandas.concat instead.\n",
      "  output = output.append(pd.DataFrame([[Name[j], Location[j], Rank[j], Overall[j], Academic[j], Employer[j], Citation[j], H_index[j], -1]], columns = col), ignore_index=True)\n",
      "C:\\Users\\MSI\\AppData\\Local\\Temp\\ipykernel_26616\\4148808711.py:108: FutureWarning: The frame.append method is deprecated and will be removed from pandas in a future version. Use pandas.concat instead.\n",
      "  output = output.append(pd.DataFrame([[Name[j], Location[j], Rank[j], Overall[j], Academic[j], Employer[j], Citation[j], H_index[j], -1]], columns = col), ignore_index=True)\n",
      "C:\\Users\\MSI\\AppData\\Local\\Temp\\ipykernel_26616\\4148808711.py:116: FutureWarning: save is not part of the public API, usage can give unexpected results and will be removed in a future version\n",
      "  writer.save()\n"
     ]
    },
    {
     "name": "stdout",
     "output_type": "stream",
     "text": [
      "crawling page 7\n"
     ]
    },
    {
     "name": "stderr",
     "output_type": "stream",
     "text": [
      "C:\\Users\\MSI\\AppData\\Local\\Temp\\ipykernel_26616\\4148808711.py:27: DeprecationWarning: executable_path has been deprecated, please pass in a Service object\n",
      "  browser = webdriver.Chrome(ChromeDriverManager().install(), chrome_options=options)\n",
      "C:\\Users\\MSI\\AppData\\Local\\Temp\\ipykernel_26616\\4148808711.py:27: DeprecationWarning: use options instead of chrome_options\n",
      "  browser = webdriver.Chrome(ChromeDriverManager().install(), chrome_options=options)\n"
     ]
    },
    {
     "name": "stdout",
     "output_type": "stream",
     "text": [
      "Erasmus University Rotterdam 101-150 - 58.3\n",
      "Essex, University of 101-150 - 62\n",
      "Fordham University 101-150 - 63.1\n",
      "HSE University 101-150 - 65\n",
      "Immanuel Kant Baltic Federal University 101-150 - 69.9\n",
      "Korea University 101-150 - 65.9\n",
      "Leiden University 101-150 - 59.2\n",
      "Lingnan University, Hong Kong 101-150 - 60.1\n",
      "Nanyang Technological University, Singapore (NTU Singapore) 101-150 - 56.9\n",
      "Pontificia Universidad Católica de Chile (UC) 101-150 - 62.9\n",
      "Pontifícia Universidade Católica do Rio de Janeiro 101-150 - 62\n",
      "RUDN University 101-150 - 57.8\n",
      "Ruhr-Universität Bochum 101-150 - 64.7\n",
      "Saint Petersburg State University 101-150 - 64.4\n",
      "Seoul National University 101-150 - 68.9\n",
      "done\n"
     ]
    },
    {
     "name": "stderr",
     "output_type": "stream",
     "text": [
      "C:\\Users\\MSI\\AppData\\Local\\Temp\\ipykernel_26616\\4148808711.py:108: FutureWarning: The frame.append method is deprecated and will be removed from pandas in a future version. Use pandas.concat instead.\n",
      "  output = output.append(pd.DataFrame([[Name[j], Location[j], Rank[j], Overall[j], Academic[j], Employer[j], Citation[j], H_index[j], -1]], columns = col), ignore_index=True)\n",
      "C:\\Users\\MSI\\AppData\\Local\\Temp\\ipykernel_26616\\4148808711.py:108: FutureWarning: The frame.append method is deprecated and will be removed from pandas in a future version. Use pandas.concat instead.\n",
      "  output = output.append(pd.DataFrame([[Name[j], Location[j], Rank[j], Overall[j], Academic[j], Employer[j], Citation[j], H_index[j], -1]], columns = col), ignore_index=True)\n",
      "C:\\Users\\MSI\\AppData\\Local\\Temp\\ipykernel_26616\\4148808711.py:108: FutureWarning: The frame.append method is deprecated and will be removed from pandas in a future version. Use pandas.concat instead.\n",
      "  output = output.append(pd.DataFrame([[Name[j], Location[j], Rank[j], Overall[j], Academic[j], Employer[j], Citation[j], H_index[j], -1]], columns = col), ignore_index=True)\n",
      "C:\\Users\\MSI\\AppData\\Local\\Temp\\ipykernel_26616\\4148808711.py:108: FutureWarning: The frame.append method is deprecated and will be removed from pandas in a future version. Use pandas.concat instead.\n",
      "  output = output.append(pd.DataFrame([[Name[j], Location[j], Rank[j], Overall[j], Academic[j], Employer[j], Citation[j], H_index[j], -1]], columns = col), ignore_index=True)\n",
      "C:\\Users\\MSI\\AppData\\Local\\Temp\\ipykernel_26616\\4148808711.py:108: FutureWarning: The frame.append method is deprecated and will be removed from pandas in a future version. Use pandas.concat instead.\n",
      "  output = output.append(pd.DataFrame([[Name[j], Location[j], Rank[j], Overall[j], Academic[j], Employer[j], Citation[j], H_index[j], -1]], columns = col), ignore_index=True)\n",
      "C:\\Users\\MSI\\AppData\\Local\\Temp\\ipykernel_26616\\4148808711.py:108: FutureWarning: The frame.append method is deprecated and will be removed from pandas in a future version. Use pandas.concat instead.\n",
      "  output = output.append(pd.DataFrame([[Name[j], Location[j], Rank[j], Overall[j], Academic[j], Employer[j], Citation[j], H_index[j], -1]], columns = col), ignore_index=True)\n",
      "C:\\Users\\MSI\\AppData\\Local\\Temp\\ipykernel_26616\\4148808711.py:108: FutureWarning: The frame.append method is deprecated and will be removed from pandas in a future version. Use pandas.concat instead.\n",
      "  output = output.append(pd.DataFrame([[Name[j], Location[j], Rank[j], Overall[j], Academic[j], Employer[j], Citation[j], H_index[j], -1]], columns = col), ignore_index=True)\n",
      "C:\\Users\\MSI\\AppData\\Local\\Temp\\ipykernel_26616\\4148808711.py:108: FutureWarning: The frame.append method is deprecated and will be removed from pandas in a future version. Use pandas.concat instead.\n",
      "  output = output.append(pd.DataFrame([[Name[j], Location[j], Rank[j], Overall[j], Academic[j], Employer[j], Citation[j], H_index[j], -1]], columns = col), ignore_index=True)\n",
      "C:\\Users\\MSI\\AppData\\Local\\Temp\\ipykernel_26616\\4148808711.py:108: FutureWarning: The frame.append method is deprecated and will be removed from pandas in a future version. Use pandas.concat instead.\n",
      "  output = output.append(pd.DataFrame([[Name[j], Location[j], Rank[j], Overall[j], Academic[j], Employer[j], Citation[j], H_index[j], -1]], columns = col), ignore_index=True)\n",
      "C:\\Users\\MSI\\AppData\\Local\\Temp\\ipykernel_26616\\4148808711.py:108: FutureWarning: The frame.append method is deprecated and will be removed from pandas in a future version. Use pandas.concat instead.\n",
      "  output = output.append(pd.DataFrame([[Name[j], Location[j], Rank[j], Overall[j], Academic[j], Employer[j], Citation[j], H_index[j], -1]], columns = col), ignore_index=True)\n",
      "C:\\Users\\MSI\\AppData\\Local\\Temp\\ipykernel_26616\\4148808711.py:108: FutureWarning: The frame.append method is deprecated and will be removed from pandas in a future version. Use pandas.concat instead.\n",
      "  output = output.append(pd.DataFrame([[Name[j], Location[j], Rank[j], Overall[j], Academic[j], Employer[j], Citation[j], H_index[j], -1]], columns = col), ignore_index=True)\n",
      "C:\\Users\\MSI\\AppData\\Local\\Temp\\ipykernel_26616\\4148808711.py:108: FutureWarning: The frame.append method is deprecated and will be removed from pandas in a future version. Use pandas.concat instead.\n",
      "  output = output.append(pd.DataFrame([[Name[j], Location[j], Rank[j], Overall[j], Academic[j], Employer[j], Citation[j], H_index[j], -1]], columns = col), ignore_index=True)\n",
      "C:\\Users\\MSI\\AppData\\Local\\Temp\\ipykernel_26616\\4148808711.py:108: FutureWarning: The frame.append method is deprecated and will be removed from pandas in a future version. Use pandas.concat instead.\n",
      "  output = output.append(pd.DataFrame([[Name[j], Location[j], Rank[j], Overall[j], Academic[j], Employer[j], Citation[j], H_index[j], -1]], columns = col), ignore_index=True)\n",
      "C:\\Users\\MSI\\AppData\\Local\\Temp\\ipykernel_26616\\4148808711.py:108: FutureWarning: The frame.append method is deprecated and will be removed from pandas in a future version. Use pandas.concat instead.\n",
      "  output = output.append(pd.DataFrame([[Name[j], Location[j], Rank[j], Overall[j], Academic[j], Employer[j], Citation[j], H_index[j], -1]], columns = col), ignore_index=True)\n",
      "C:\\Users\\MSI\\AppData\\Local\\Temp\\ipykernel_26616\\4148808711.py:108: FutureWarning: The frame.append method is deprecated and will be removed from pandas in a future version. Use pandas.concat instead.\n",
      "  output = output.append(pd.DataFrame([[Name[j], Location[j], Rank[j], Overall[j], Academic[j], Employer[j], Citation[j], H_index[j], -1]], columns = col), ignore_index=True)\n",
      "C:\\Users\\MSI\\AppData\\Local\\Temp\\ipykernel_26616\\4148808711.py:116: FutureWarning: save is not part of the public API, usage can give unexpected results and will be removed in a future version\n",
      "  writer.save()\n"
     ]
    },
    {
     "name": "stdout",
     "output_type": "stream",
     "text": [
      "crawling page 8\n"
     ]
    },
    {
     "name": "stderr",
     "output_type": "stream",
     "text": [
      "C:\\Users\\MSI\\AppData\\Local\\Temp\\ipykernel_26616\\4148808711.py:27: DeprecationWarning: executable_path has been deprecated, please pass in a Service object\n",
      "  browser = webdriver.Chrome(ChromeDriverManager().install(), chrome_options=options)\n",
      "C:\\Users\\MSI\\AppData\\Local\\Temp\\ipykernel_26616\\4148808711.py:27: DeprecationWarning: use options instead of chrome_options\n",
      "  browser = webdriver.Chrome(ChromeDriverManager().install(), chrome_options=options)\n"
     ]
    },
    {
     "name": "stdout",
     "output_type": "stream",
     "text": [
      "Stockholm University 101-150 - 61.2\n",
      "The Hebrew University of Jerusalem 101-150 - 61.9\n",
      "The University of Arizona 101-150 - 60.1\n",
      "The University of Hong Kong 101-150 - 64\n",
      "The University of Manchester 101-150 - 55.5\n",
      "The University of Tokyo 101-150 - 65.5\n",
      "The University of Western Australia 101-150 - 59.9\n",
      "Universidad Nacional de Colombia 101-150 - 60.6\n",
      "Universidad de Buenos Aires (UBA) 101-150 - 61.7\n",
      "Universidade Estadual de Campinas (Unicamp) 101-150 - 59.8\n",
      "Universidade de São Paulo 101-150 - 60.9\n",
      "Universitat Pompeu Fabra (Barcelona) 101-150 - 62.1\n",
      "University of Aberdeen 101-150 - 63.8\n",
      "University of Birmingham 101-150 - 54\n",
      "University of British Columbia 101-150 - 57.7\n",
      "done\n"
     ]
    },
    {
     "name": "stderr",
     "output_type": "stream",
     "text": [
      "C:\\Users\\MSI\\AppData\\Local\\Temp\\ipykernel_26616\\4148808711.py:108: FutureWarning: The frame.append method is deprecated and will be removed from pandas in a future version. Use pandas.concat instead.\n",
      "  output = output.append(pd.DataFrame([[Name[j], Location[j], Rank[j], Overall[j], Academic[j], Employer[j], Citation[j], H_index[j], -1]], columns = col), ignore_index=True)\n",
      "C:\\Users\\MSI\\AppData\\Local\\Temp\\ipykernel_26616\\4148808711.py:108: FutureWarning: The frame.append method is deprecated and will be removed from pandas in a future version. Use pandas.concat instead.\n",
      "  output = output.append(pd.DataFrame([[Name[j], Location[j], Rank[j], Overall[j], Academic[j], Employer[j], Citation[j], H_index[j], -1]], columns = col), ignore_index=True)\n",
      "C:\\Users\\MSI\\AppData\\Local\\Temp\\ipykernel_26616\\4148808711.py:108: FutureWarning: The frame.append method is deprecated and will be removed from pandas in a future version. Use pandas.concat instead.\n",
      "  output = output.append(pd.DataFrame([[Name[j], Location[j], Rank[j], Overall[j], Academic[j], Employer[j], Citation[j], H_index[j], -1]], columns = col), ignore_index=True)\n",
      "C:\\Users\\MSI\\AppData\\Local\\Temp\\ipykernel_26616\\4148808711.py:108: FutureWarning: The frame.append method is deprecated and will be removed from pandas in a future version. Use pandas.concat instead.\n",
      "  output = output.append(pd.DataFrame([[Name[j], Location[j], Rank[j], Overall[j], Academic[j], Employer[j], Citation[j], H_index[j], -1]], columns = col), ignore_index=True)\n",
      "C:\\Users\\MSI\\AppData\\Local\\Temp\\ipykernel_26616\\4148808711.py:108: FutureWarning: The frame.append method is deprecated and will be removed from pandas in a future version. Use pandas.concat instead.\n",
      "  output = output.append(pd.DataFrame([[Name[j], Location[j], Rank[j], Overall[j], Academic[j], Employer[j], Citation[j], H_index[j], -1]], columns = col), ignore_index=True)\n",
      "C:\\Users\\MSI\\AppData\\Local\\Temp\\ipykernel_26616\\4148808711.py:108: FutureWarning: The frame.append method is deprecated and will be removed from pandas in a future version. Use pandas.concat instead.\n",
      "  output = output.append(pd.DataFrame([[Name[j], Location[j], Rank[j], Overall[j], Academic[j], Employer[j], Citation[j], H_index[j], -1]], columns = col), ignore_index=True)\n",
      "C:\\Users\\MSI\\AppData\\Local\\Temp\\ipykernel_26616\\4148808711.py:108: FutureWarning: The frame.append method is deprecated and will be removed from pandas in a future version. Use pandas.concat instead.\n",
      "  output = output.append(pd.DataFrame([[Name[j], Location[j], Rank[j], Overall[j], Academic[j], Employer[j], Citation[j], H_index[j], -1]], columns = col), ignore_index=True)\n",
      "C:\\Users\\MSI\\AppData\\Local\\Temp\\ipykernel_26616\\4148808711.py:108: FutureWarning: The frame.append method is deprecated and will be removed from pandas in a future version. Use pandas.concat instead.\n",
      "  output = output.append(pd.DataFrame([[Name[j], Location[j], Rank[j], Overall[j], Academic[j], Employer[j], Citation[j], H_index[j], -1]], columns = col), ignore_index=True)\n",
      "C:\\Users\\MSI\\AppData\\Local\\Temp\\ipykernel_26616\\4148808711.py:108: FutureWarning: The frame.append method is deprecated and will be removed from pandas in a future version. Use pandas.concat instead.\n",
      "  output = output.append(pd.DataFrame([[Name[j], Location[j], Rank[j], Overall[j], Academic[j], Employer[j], Citation[j], H_index[j], -1]], columns = col), ignore_index=True)\n",
      "C:\\Users\\MSI\\AppData\\Local\\Temp\\ipykernel_26616\\4148808711.py:108: FutureWarning: The frame.append method is deprecated and will be removed from pandas in a future version. Use pandas.concat instead.\n",
      "  output = output.append(pd.DataFrame([[Name[j], Location[j], Rank[j], Overall[j], Academic[j], Employer[j], Citation[j], H_index[j], -1]], columns = col), ignore_index=True)\n",
      "C:\\Users\\MSI\\AppData\\Local\\Temp\\ipykernel_26616\\4148808711.py:108: FutureWarning: The frame.append method is deprecated and will be removed from pandas in a future version. Use pandas.concat instead.\n",
      "  output = output.append(pd.DataFrame([[Name[j], Location[j], Rank[j], Overall[j], Academic[j], Employer[j], Citation[j], H_index[j], -1]], columns = col), ignore_index=True)\n",
      "C:\\Users\\MSI\\AppData\\Local\\Temp\\ipykernel_26616\\4148808711.py:108: FutureWarning: The frame.append method is deprecated and will be removed from pandas in a future version. Use pandas.concat instead.\n",
      "  output = output.append(pd.DataFrame([[Name[j], Location[j], Rank[j], Overall[j], Academic[j], Employer[j], Citation[j], H_index[j], -1]], columns = col), ignore_index=True)\n",
      "C:\\Users\\MSI\\AppData\\Local\\Temp\\ipykernel_26616\\4148808711.py:108: FutureWarning: The frame.append method is deprecated and will be removed from pandas in a future version. Use pandas.concat instead.\n",
      "  output = output.append(pd.DataFrame([[Name[j], Location[j], Rank[j], Overall[j], Academic[j], Employer[j], Citation[j], H_index[j], -1]], columns = col), ignore_index=True)\n",
      "C:\\Users\\MSI\\AppData\\Local\\Temp\\ipykernel_26616\\4148808711.py:108: FutureWarning: The frame.append method is deprecated and will be removed from pandas in a future version. Use pandas.concat instead.\n",
      "  output = output.append(pd.DataFrame([[Name[j], Location[j], Rank[j], Overall[j], Academic[j], Employer[j], Citation[j], H_index[j], -1]], columns = col), ignore_index=True)\n",
      "C:\\Users\\MSI\\AppData\\Local\\Temp\\ipykernel_26616\\4148808711.py:108: FutureWarning: The frame.append method is deprecated and will be removed from pandas in a future version. Use pandas.concat instead.\n",
      "  output = output.append(pd.DataFrame([[Name[j], Location[j], Rank[j], Overall[j], Academic[j], Employer[j], Citation[j], H_index[j], -1]], columns = col), ignore_index=True)\n",
      "C:\\Users\\MSI\\AppData\\Local\\Temp\\ipykernel_26616\\4148808711.py:116: FutureWarning: save is not part of the public API, usage can give unexpected results and will be removed in a future version\n",
      "  writer.save()\n"
     ]
    },
    {
     "name": "stdout",
     "output_type": "stream",
     "text": [
      "crawling page 9\n"
     ]
    },
    {
     "name": "stderr",
     "output_type": "stream",
     "text": [
      "C:\\Users\\MSI\\AppData\\Local\\Temp\\ipykernel_26616\\4148808711.py:27: DeprecationWarning: executable_path has been deprecated, please pass in a Service object\n",
      "  browser = webdriver.Chrome(ChromeDriverManager().install(), chrome_options=options)\n",
      "C:\\Users\\MSI\\AppData\\Local\\Temp\\ipykernel_26616\\4148808711.py:27: DeprecationWarning: use options instead of chrome_options\n",
      "  browser = webdriver.Chrome(ChromeDriverManager().install(), chrome_options=options)\n"
     ]
    },
    {
     "name": "stdout",
     "output_type": "stream",
     "text": [
      "University of California, San Diego (UCSD) 101-150 - 60.2\n",
      "University of Cologne 101-150 - 64.7\n",
      "University of Colorado Boulder 101-150 - 58.7\n",
      "University of Kent 101-150 - 61.5\n",
      "University of Otago 101-150 - 61\n",
      "University of Pennsylvania 101-150 - 56.5\n",
      "University of Virginia 101-150 - 59\n",
      "University of Wisconsin-Madison 101-150 - 57.6\n",
      "University of York 101-150 - 58.1\n",
      "University of Zurich 101-150 - 62.7\n",
      "Università Cattolica del Sacro Cuore 101-150 - 59.4\n",
      "Universität Hamburg 101-150 - 63.4\n",
      "Université de Fribourg 101-150 - 66\n",
      "Washington University in St. Louis 101-150 - 58.3\n",
      "Yonsei University 101-150 - 59.7\n",
      "done\n"
     ]
    },
    {
     "name": "stderr",
     "output_type": "stream",
     "text": [
      "C:\\Users\\MSI\\AppData\\Local\\Temp\\ipykernel_26616\\4148808711.py:108: FutureWarning: The frame.append method is deprecated and will be removed from pandas in a future version. Use pandas.concat instead.\n",
      "  output = output.append(pd.DataFrame([[Name[j], Location[j], Rank[j], Overall[j], Academic[j], Employer[j], Citation[j], H_index[j], -1]], columns = col), ignore_index=True)\n",
      "C:\\Users\\MSI\\AppData\\Local\\Temp\\ipykernel_26616\\4148808711.py:108: FutureWarning: The frame.append method is deprecated and will be removed from pandas in a future version. Use pandas.concat instead.\n",
      "  output = output.append(pd.DataFrame([[Name[j], Location[j], Rank[j], Overall[j], Academic[j], Employer[j], Citation[j], H_index[j], -1]], columns = col), ignore_index=True)\n",
      "C:\\Users\\MSI\\AppData\\Local\\Temp\\ipykernel_26616\\4148808711.py:108: FutureWarning: The frame.append method is deprecated and will be removed from pandas in a future version. Use pandas.concat instead.\n",
      "  output = output.append(pd.DataFrame([[Name[j], Location[j], Rank[j], Overall[j], Academic[j], Employer[j], Citation[j], H_index[j], -1]], columns = col), ignore_index=True)\n",
      "C:\\Users\\MSI\\AppData\\Local\\Temp\\ipykernel_26616\\4148808711.py:108: FutureWarning: The frame.append method is deprecated and will be removed from pandas in a future version. Use pandas.concat instead.\n",
      "  output = output.append(pd.DataFrame([[Name[j], Location[j], Rank[j], Overall[j], Academic[j], Employer[j], Citation[j], H_index[j], -1]], columns = col), ignore_index=True)\n",
      "C:\\Users\\MSI\\AppData\\Local\\Temp\\ipykernel_26616\\4148808711.py:108: FutureWarning: The frame.append method is deprecated and will be removed from pandas in a future version. Use pandas.concat instead.\n",
      "  output = output.append(pd.DataFrame([[Name[j], Location[j], Rank[j], Overall[j], Academic[j], Employer[j], Citation[j], H_index[j], -1]], columns = col), ignore_index=True)\n",
      "C:\\Users\\MSI\\AppData\\Local\\Temp\\ipykernel_26616\\4148808711.py:108: FutureWarning: The frame.append method is deprecated and will be removed from pandas in a future version. Use pandas.concat instead.\n",
      "  output = output.append(pd.DataFrame([[Name[j], Location[j], Rank[j], Overall[j], Academic[j], Employer[j], Citation[j], H_index[j], -1]], columns = col), ignore_index=True)\n",
      "C:\\Users\\MSI\\AppData\\Local\\Temp\\ipykernel_26616\\4148808711.py:108: FutureWarning: The frame.append method is deprecated and will be removed from pandas in a future version. Use pandas.concat instead.\n",
      "  output = output.append(pd.DataFrame([[Name[j], Location[j], Rank[j], Overall[j], Academic[j], Employer[j], Citation[j], H_index[j], -1]], columns = col), ignore_index=True)\n",
      "C:\\Users\\MSI\\AppData\\Local\\Temp\\ipykernel_26616\\4148808711.py:108: FutureWarning: The frame.append method is deprecated and will be removed from pandas in a future version. Use pandas.concat instead.\n",
      "  output = output.append(pd.DataFrame([[Name[j], Location[j], Rank[j], Overall[j], Academic[j], Employer[j], Citation[j], H_index[j], -1]], columns = col), ignore_index=True)\n",
      "C:\\Users\\MSI\\AppData\\Local\\Temp\\ipykernel_26616\\4148808711.py:108: FutureWarning: The frame.append method is deprecated and will be removed from pandas in a future version. Use pandas.concat instead.\n",
      "  output = output.append(pd.DataFrame([[Name[j], Location[j], Rank[j], Overall[j], Academic[j], Employer[j], Citation[j], H_index[j], -1]], columns = col), ignore_index=True)\n",
      "C:\\Users\\MSI\\AppData\\Local\\Temp\\ipykernel_26616\\4148808711.py:108: FutureWarning: The frame.append method is deprecated and will be removed from pandas in a future version. Use pandas.concat instead.\n",
      "  output = output.append(pd.DataFrame([[Name[j], Location[j], Rank[j], Overall[j], Academic[j], Employer[j], Citation[j], H_index[j], -1]], columns = col), ignore_index=True)\n",
      "C:\\Users\\MSI\\AppData\\Local\\Temp\\ipykernel_26616\\4148808711.py:108: FutureWarning: The frame.append method is deprecated and will be removed from pandas in a future version. Use pandas.concat instead.\n",
      "  output = output.append(pd.DataFrame([[Name[j], Location[j], Rank[j], Overall[j], Academic[j], Employer[j], Citation[j], H_index[j], -1]], columns = col), ignore_index=True)\n",
      "C:\\Users\\MSI\\AppData\\Local\\Temp\\ipykernel_26616\\4148808711.py:108: FutureWarning: The frame.append method is deprecated and will be removed from pandas in a future version. Use pandas.concat instead.\n",
      "  output = output.append(pd.DataFrame([[Name[j], Location[j], Rank[j], Overall[j], Academic[j], Employer[j], Citation[j], H_index[j], -1]], columns = col), ignore_index=True)\n",
      "C:\\Users\\MSI\\AppData\\Local\\Temp\\ipykernel_26616\\4148808711.py:108: FutureWarning: The frame.append method is deprecated and will be removed from pandas in a future version. Use pandas.concat instead.\n",
      "  output = output.append(pd.DataFrame([[Name[j], Location[j], Rank[j], Overall[j], Academic[j], Employer[j], Citation[j], H_index[j], -1]], columns = col), ignore_index=True)\n",
      "C:\\Users\\MSI\\AppData\\Local\\Temp\\ipykernel_26616\\4148808711.py:108: FutureWarning: The frame.append method is deprecated and will be removed from pandas in a future version. Use pandas.concat instead.\n",
      "  output = output.append(pd.DataFrame([[Name[j], Location[j], Rank[j], Overall[j], Academic[j], Employer[j], Citation[j], H_index[j], -1]], columns = col), ignore_index=True)\n",
      "C:\\Users\\MSI\\AppData\\Local\\Temp\\ipykernel_26616\\4148808711.py:108: FutureWarning: The frame.append method is deprecated and will be removed from pandas in a future version. Use pandas.concat instead.\n",
      "  output = output.append(pd.DataFrame([[Name[j], Location[j], Rank[j], Overall[j], Academic[j], Employer[j], Citation[j], H_index[j], -1]], columns = col), ignore_index=True)\n",
      "C:\\Users\\MSI\\AppData\\Local\\Temp\\ipykernel_26616\\4148808711.py:116: FutureWarning: save is not part of the public API, usage can give unexpected results and will be removed in a future version\n",
      "  writer.save()\n"
     ]
    },
    {
     "name": "stdout",
     "output_type": "stream",
     "text": [
      "crawling page 10\n"
     ]
    },
    {
     "name": "stderr",
     "output_type": "stream",
     "text": [
      "C:\\Users\\MSI\\AppData\\Local\\Temp\\ipykernel_26616\\4148808711.py:27: DeprecationWarning: executable_path has been deprecated, please pass in a Service object\n",
      "  browser = webdriver.Chrome(ChromeDriverManager().install(), chrome_options=options)\n",
      "C:\\Users\\MSI\\AppData\\Local\\Temp\\ipykernel_26616\\4148808711.py:27: DeprecationWarning: use options instead of chrome_options\n",
      "  browser = webdriver.Chrome(ChromeDriverManager().install(), chrome_options=options)\n"
     ]
    },
    {
     "name": "stdout",
     "output_type": "stream",
     "text": [
      "Aarhus University 151-200 - 55.9\n",
      "Alma Mater Studiorum - University of Bologna 151-200 - 57.3\n",
      "The City College of New York 151-200 - 60.9\n",
      "Ca' Foscari University of Venice 151-200 - 60\n",
      "The Catholic University of America 151-200 - 60.7\n",
      "Charles University 151-200 - 58.2\n",
      "Complutense University of Madrid 151-200 - 59\n",
      "Emory University 151-200 - 55.2\n",
      "Jawaharlal Nehru University 151-200 - 64.3\n",
      "Karl-Franzens-Universitaet Graz 151-200 - 56.6\n",
      "L.N. Gumilyov Eurasian National University (ENU) 151-200 - 61\n",
      "Lund University 151-200 - 54.5\n",
      "Nanjing University 151-200 - 62.8\n",
      "Nankai University 151-200 - 63.8\n",
      "National Taiwan University (NTU) 151-200 - 65\n",
      "done\n"
     ]
    },
    {
     "name": "stderr",
     "output_type": "stream",
     "text": [
      "C:\\Users\\MSI\\AppData\\Local\\Temp\\ipykernel_26616\\4148808711.py:108: FutureWarning: The frame.append method is deprecated and will be removed from pandas in a future version. Use pandas.concat instead.\n",
      "  output = output.append(pd.DataFrame([[Name[j], Location[j], Rank[j], Overall[j], Academic[j], Employer[j], Citation[j], H_index[j], -1]], columns = col), ignore_index=True)\n",
      "C:\\Users\\MSI\\AppData\\Local\\Temp\\ipykernel_26616\\4148808711.py:108: FutureWarning: The frame.append method is deprecated and will be removed from pandas in a future version. Use pandas.concat instead.\n",
      "  output = output.append(pd.DataFrame([[Name[j], Location[j], Rank[j], Overall[j], Academic[j], Employer[j], Citation[j], H_index[j], -1]], columns = col), ignore_index=True)\n",
      "C:\\Users\\MSI\\AppData\\Local\\Temp\\ipykernel_26616\\4148808711.py:108: FutureWarning: The frame.append method is deprecated and will be removed from pandas in a future version. Use pandas.concat instead.\n",
      "  output = output.append(pd.DataFrame([[Name[j], Location[j], Rank[j], Overall[j], Academic[j], Employer[j], Citation[j], H_index[j], -1]], columns = col), ignore_index=True)\n",
      "C:\\Users\\MSI\\AppData\\Local\\Temp\\ipykernel_26616\\4148808711.py:108: FutureWarning: The frame.append method is deprecated and will be removed from pandas in a future version. Use pandas.concat instead.\n",
      "  output = output.append(pd.DataFrame([[Name[j], Location[j], Rank[j], Overall[j], Academic[j], Employer[j], Citation[j], H_index[j], -1]], columns = col), ignore_index=True)\n",
      "C:\\Users\\MSI\\AppData\\Local\\Temp\\ipykernel_26616\\4148808711.py:108: FutureWarning: The frame.append method is deprecated and will be removed from pandas in a future version. Use pandas.concat instead.\n",
      "  output = output.append(pd.DataFrame([[Name[j], Location[j], Rank[j], Overall[j], Academic[j], Employer[j], Citation[j], H_index[j], -1]], columns = col), ignore_index=True)\n",
      "C:\\Users\\MSI\\AppData\\Local\\Temp\\ipykernel_26616\\4148808711.py:108: FutureWarning: The frame.append method is deprecated and will be removed from pandas in a future version. Use pandas.concat instead.\n",
      "  output = output.append(pd.DataFrame([[Name[j], Location[j], Rank[j], Overall[j], Academic[j], Employer[j], Citation[j], H_index[j], -1]], columns = col), ignore_index=True)\n",
      "C:\\Users\\MSI\\AppData\\Local\\Temp\\ipykernel_26616\\4148808711.py:108: FutureWarning: The frame.append method is deprecated and will be removed from pandas in a future version. Use pandas.concat instead.\n",
      "  output = output.append(pd.DataFrame([[Name[j], Location[j], Rank[j], Overall[j], Academic[j], Employer[j], Citation[j], H_index[j], -1]], columns = col), ignore_index=True)\n",
      "C:\\Users\\MSI\\AppData\\Local\\Temp\\ipykernel_26616\\4148808711.py:108: FutureWarning: The frame.append method is deprecated and will be removed from pandas in a future version. Use pandas.concat instead.\n",
      "  output = output.append(pd.DataFrame([[Name[j], Location[j], Rank[j], Overall[j], Academic[j], Employer[j], Citation[j], H_index[j], -1]], columns = col), ignore_index=True)\n",
      "C:\\Users\\MSI\\AppData\\Local\\Temp\\ipykernel_26616\\4148808711.py:108: FutureWarning: The frame.append method is deprecated and will be removed from pandas in a future version. Use pandas.concat instead.\n",
      "  output = output.append(pd.DataFrame([[Name[j], Location[j], Rank[j], Overall[j], Academic[j], Employer[j], Citation[j], H_index[j], -1]], columns = col), ignore_index=True)\n",
      "C:\\Users\\MSI\\AppData\\Local\\Temp\\ipykernel_26616\\4148808711.py:108: FutureWarning: The frame.append method is deprecated and will be removed from pandas in a future version. Use pandas.concat instead.\n",
      "  output = output.append(pd.DataFrame([[Name[j], Location[j], Rank[j], Overall[j], Academic[j], Employer[j], Citation[j], H_index[j], -1]], columns = col), ignore_index=True)\n",
      "C:\\Users\\MSI\\AppData\\Local\\Temp\\ipykernel_26616\\4148808711.py:108: FutureWarning: The frame.append method is deprecated and will be removed from pandas in a future version. Use pandas.concat instead.\n",
      "  output = output.append(pd.DataFrame([[Name[j], Location[j], Rank[j], Overall[j], Academic[j], Employer[j], Citation[j], H_index[j], -1]], columns = col), ignore_index=True)\n",
      "C:\\Users\\MSI\\AppData\\Local\\Temp\\ipykernel_26616\\4148808711.py:108: FutureWarning: The frame.append method is deprecated and will be removed from pandas in a future version. Use pandas.concat instead.\n",
      "  output = output.append(pd.DataFrame([[Name[j], Location[j], Rank[j], Overall[j], Academic[j], Employer[j], Citation[j], H_index[j], -1]], columns = col), ignore_index=True)\n",
      "C:\\Users\\MSI\\AppData\\Local\\Temp\\ipykernel_26616\\4148808711.py:108: FutureWarning: The frame.append method is deprecated and will be removed from pandas in a future version. Use pandas.concat instead.\n",
      "  output = output.append(pd.DataFrame([[Name[j], Location[j], Rank[j], Overall[j], Academic[j], Employer[j], Citation[j], H_index[j], -1]], columns = col), ignore_index=True)\n",
      "C:\\Users\\MSI\\AppData\\Local\\Temp\\ipykernel_26616\\4148808711.py:108: FutureWarning: The frame.append method is deprecated and will be removed from pandas in a future version. Use pandas.concat instead.\n",
      "  output = output.append(pd.DataFrame([[Name[j], Location[j], Rank[j], Overall[j], Academic[j], Employer[j], Citation[j], H_index[j], -1]], columns = col), ignore_index=True)\n",
      "C:\\Users\\MSI\\AppData\\Local\\Temp\\ipykernel_26616\\4148808711.py:108: FutureWarning: The frame.append method is deprecated and will be removed from pandas in a future version. Use pandas.concat instead.\n",
      "  output = output.append(pd.DataFrame([[Name[j], Location[j], Rank[j], Overall[j], Academic[j], Employer[j], Citation[j], H_index[j], -1]], columns = col), ignore_index=True)\n",
      "C:\\Users\\MSI\\AppData\\Local\\Temp\\ipykernel_26616\\4148808711.py:116: FutureWarning: save is not part of the public API, usage can give unexpected results and will be removed in a future version\n",
      "  writer.save()\n"
     ]
    },
    {
     "name": "stdout",
     "output_type": "stream",
     "text": [
      "crawling page 11\n"
     ]
    },
    {
     "name": "stderr",
     "output_type": "stream",
     "text": [
      "C:\\Users\\MSI\\AppData\\Local\\Temp\\ipykernel_26616\\4148808711.py:27: DeprecationWarning: executable_path has been deprecated, please pass in a Service object\n",
      "  browser = webdriver.Chrome(ChromeDriverManager().install(), chrome_options=options)\n",
      "C:\\Users\\MSI\\AppData\\Local\\Temp\\ipykernel_26616\\4148808711.py:27: DeprecationWarning: use options instead of chrome_options\n",
      "  browser = webdriver.Chrome(ChromeDriverManager().install(), chrome_options=options)\n"
     ]
    },
    {
     "name": "stdout",
     "output_type": "stream",
     "text": [
      "Pontifícia Universidade Católica do Rio Grande do Sul (PUCRS) 151-200 - 63.1\n",
      "Queen's University at Kingston 151-200 - 53.9\n",
      "Rice University 151-200 - 54\n",
      "Russian State University for the Humanities 151-200 - 60.2\n",
      "Rutgers University–Newark 151-200 - 61.4\n",
      "Sciences Po 151-200 - 58.8\n",
      "Scuola Normale Superiore 151-200 - 61.4\n",
      "Simon Fraser University 151-200 - 55.4\n",
      "Sungkyunkwan University (SKKU) 151-200 - 61.8\n",
      "The Ohio State University 151-200 - 54.3\n",
      "The University of Auckland 151-200 - 54.5\n",
      "Tilburg University 151-200 - 58\n",
      "Universidad Alberto Hurtado 151-200 - 60.5\n",
      "Universidad Autónoma de Madrid 151-200 - 60.7\n",
      "Universidad de los Andes 151-200 - 57.3\n",
      "done\n"
     ]
    },
    {
     "name": "stderr",
     "output_type": "stream",
     "text": [
      "C:\\Users\\MSI\\AppData\\Local\\Temp\\ipykernel_26616\\4148808711.py:108: FutureWarning: The frame.append method is deprecated and will be removed from pandas in a future version. Use pandas.concat instead.\n",
      "  output = output.append(pd.DataFrame([[Name[j], Location[j], Rank[j], Overall[j], Academic[j], Employer[j], Citation[j], H_index[j], -1]], columns = col), ignore_index=True)\n",
      "C:\\Users\\MSI\\AppData\\Local\\Temp\\ipykernel_26616\\4148808711.py:108: FutureWarning: The frame.append method is deprecated and will be removed from pandas in a future version. Use pandas.concat instead.\n",
      "  output = output.append(pd.DataFrame([[Name[j], Location[j], Rank[j], Overall[j], Academic[j], Employer[j], Citation[j], H_index[j], -1]], columns = col), ignore_index=True)\n",
      "C:\\Users\\MSI\\AppData\\Local\\Temp\\ipykernel_26616\\4148808711.py:108: FutureWarning: The frame.append method is deprecated and will be removed from pandas in a future version. Use pandas.concat instead.\n",
      "  output = output.append(pd.DataFrame([[Name[j], Location[j], Rank[j], Overall[j], Academic[j], Employer[j], Citation[j], H_index[j], -1]], columns = col), ignore_index=True)\n",
      "C:\\Users\\MSI\\AppData\\Local\\Temp\\ipykernel_26616\\4148808711.py:108: FutureWarning: The frame.append method is deprecated and will be removed from pandas in a future version. Use pandas.concat instead.\n",
      "  output = output.append(pd.DataFrame([[Name[j], Location[j], Rank[j], Overall[j], Academic[j], Employer[j], Citation[j], H_index[j], -1]], columns = col), ignore_index=True)\n",
      "C:\\Users\\MSI\\AppData\\Local\\Temp\\ipykernel_26616\\4148808711.py:108: FutureWarning: The frame.append method is deprecated and will be removed from pandas in a future version. Use pandas.concat instead.\n",
      "  output = output.append(pd.DataFrame([[Name[j], Location[j], Rank[j], Overall[j], Academic[j], Employer[j], Citation[j], H_index[j], -1]], columns = col), ignore_index=True)\n",
      "C:\\Users\\MSI\\AppData\\Local\\Temp\\ipykernel_26616\\4148808711.py:108: FutureWarning: The frame.append method is deprecated and will be removed from pandas in a future version. Use pandas.concat instead.\n",
      "  output = output.append(pd.DataFrame([[Name[j], Location[j], Rank[j], Overall[j], Academic[j], Employer[j], Citation[j], H_index[j], -1]], columns = col), ignore_index=True)\n",
      "C:\\Users\\MSI\\AppData\\Local\\Temp\\ipykernel_26616\\4148808711.py:108: FutureWarning: The frame.append method is deprecated and will be removed from pandas in a future version. Use pandas.concat instead.\n",
      "  output = output.append(pd.DataFrame([[Name[j], Location[j], Rank[j], Overall[j], Academic[j], Employer[j], Citation[j], H_index[j], -1]], columns = col), ignore_index=True)\n",
      "C:\\Users\\MSI\\AppData\\Local\\Temp\\ipykernel_26616\\4148808711.py:108: FutureWarning: The frame.append method is deprecated and will be removed from pandas in a future version. Use pandas.concat instead.\n",
      "  output = output.append(pd.DataFrame([[Name[j], Location[j], Rank[j], Overall[j], Academic[j], Employer[j], Citation[j], H_index[j], -1]], columns = col), ignore_index=True)\n",
      "C:\\Users\\MSI\\AppData\\Local\\Temp\\ipykernel_26616\\4148808711.py:108: FutureWarning: The frame.append method is deprecated and will be removed from pandas in a future version. Use pandas.concat instead.\n",
      "  output = output.append(pd.DataFrame([[Name[j], Location[j], Rank[j], Overall[j], Academic[j], Employer[j], Citation[j], H_index[j], -1]], columns = col), ignore_index=True)\n",
      "C:\\Users\\MSI\\AppData\\Local\\Temp\\ipykernel_26616\\4148808711.py:108: FutureWarning: The frame.append method is deprecated and will be removed from pandas in a future version. Use pandas.concat instead.\n",
      "  output = output.append(pd.DataFrame([[Name[j], Location[j], Rank[j], Overall[j], Academic[j], Employer[j], Citation[j], H_index[j], -1]], columns = col), ignore_index=True)\n",
      "C:\\Users\\MSI\\AppData\\Local\\Temp\\ipykernel_26616\\4148808711.py:108: FutureWarning: The frame.append method is deprecated and will be removed from pandas in a future version. Use pandas.concat instead.\n",
      "  output = output.append(pd.DataFrame([[Name[j], Location[j], Rank[j], Overall[j], Academic[j], Employer[j], Citation[j], H_index[j], -1]], columns = col), ignore_index=True)\n",
      "C:\\Users\\MSI\\AppData\\Local\\Temp\\ipykernel_26616\\4148808711.py:108: FutureWarning: The frame.append method is deprecated and will be removed from pandas in a future version. Use pandas.concat instead.\n",
      "  output = output.append(pd.DataFrame([[Name[j], Location[j], Rank[j], Overall[j], Academic[j], Employer[j], Citation[j], H_index[j], -1]], columns = col), ignore_index=True)\n",
      "C:\\Users\\MSI\\AppData\\Local\\Temp\\ipykernel_26616\\4148808711.py:108: FutureWarning: The frame.append method is deprecated and will be removed from pandas in a future version. Use pandas.concat instead.\n",
      "  output = output.append(pd.DataFrame([[Name[j], Location[j], Rank[j], Overall[j], Academic[j], Employer[j], Citation[j], H_index[j], -1]], columns = col), ignore_index=True)\n",
      "C:\\Users\\MSI\\AppData\\Local\\Temp\\ipykernel_26616\\4148808711.py:108: FutureWarning: The frame.append method is deprecated and will be removed from pandas in a future version. Use pandas.concat instead.\n",
      "  output = output.append(pd.DataFrame([[Name[j], Location[j], Rank[j], Overall[j], Academic[j], Employer[j], Citation[j], H_index[j], -1]], columns = col), ignore_index=True)\n",
      "C:\\Users\\MSI\\AppData\\Local\\Temp\\ipykernel_26616\\4148808711.py:108: FutureWarning: The frame.append method is deprecated and will be removed from pandas in a future version. Use pandas.concat instead.\n",
      "  output = output.append(pd.DataFrame([[Name[j], Location[j], Rank[j], Overall[j], Academic[j], Employer[j], Citation[j], H_index[j], -1]], columns = col), ignore_index=True)\n",
      "C:\\Users\\MSI\\AppData\\Local\\Temp\\ipykernel_26616\\4148808711.py:116: FutureWarning: save is not part of the public API, usage can give unexpected results and will be removed in a future version\n",
      "  writer.save()\n"
     ]
    },
    {
     "name": "stdout",
     "output_type": "stream",
     "text": [
      "crawling page 12\n"
     ]
    },
    {
     "name": "stderr",
     "output_type": "stream",
     "text": [
      "C:\\Users\\MSI\\AppData\\Local\\Temp\\ipykernel_26616\\4148808711.py:27: DeprecationWarning: executable_path has been deprecated, please pass in a Service object\n",
      "  browser = webdriver.Chrome(ChromeDriverManager().install(), chrome_options=options)\n",
      "C:\\Users\\MSI\\AppData\\Local\\Temp\\ipykernel_26616\\4148808711.py:27: DeprecationWarning: use options instead of chrome_options\n",
      "  browser = webdriver.Chrome(ChromeDriverManager().install(), chrome_options=options)\n"
     ]
    },
    {
     "name": "stdout",
     "output_type": "stream",
     "text": [
      "Universidad de los Andes - Chile 151-200 - 60.7\n",
      "Universitat de Valencia 151-200 - 59.5\n",
      "University at Buffalo SUNY 151-200 - 53.9\n",
      "University of Basel 151-200 - 54.1\n",
      "University of Calgary 151-200 - 57.5\n",
      "University of Connecticut 151-200 - 54.8\n",
      "University of Delhi 151-200 - 63\n",
      "University of Illinois at Chicago (UIC) 151-200 - 52.4\n",
      "University of Minnesota Twin Cities 151-200 - 56.1\n",
      "University of Stirling 151-200 - 56.6\n",
      "University of Wollongong 151-200 - 50.7\n",
      "Università degli studi Roma Tre 151-200 - 60\n",
      "Università di Padova 151-200 - 58.2\n",
      "Universität Jena 151-200 - 60.6\n",
      "Universität Konstanz 151-200 - 60.6\n",
      "done\n"
     ]
    },
    {
     "name": "stderr",
     "output_type": "stream",
     "text": [
      "C:\\Users\\MSI\\AppData\\Local\\Temp\\ipykernel_26616\\4148808711.py:108: FutureWarning: The frame.append method is deprecated and will be removed from pandas in a future version. Use pandas.concat instead.\n",
      "  output = output.append(pd.DataFrame([[Name[j], Location[j], Rank[j], Overall[j], Academic[j], Employer[j], Citation[j], H_index[j], -1]], columns = col), ignore_index=True)\n",
      "C:\\Users\\MSI\\AppData\\Local\\Temp\\ipykernel_26616\\4148808711.py:108: FutureWarning: The frame.append method is deprecated and will be removed from pandas in a future version. Use pandas.concat instead.\n",
      "  output = output.append(pd.DataFrame([[Name[j], Location[j], Rank[j], Overall[j], Academic[j], Employer[j], Citation[j], H_index[j], -1]], columns = col), ignore_index=True)\n",
      "C:\\Users\\MSI\\AppData\\Local\\Temp\\ipykernel_26616\\4148808711.py:108: FutureWarning: The frame.append method is deprecated and will be removed from pandas in a future version. Use pandas.concat instead.\n",
      "  output = output.append(pd.DataFrame([[Name[j], Location[j], Rank[j], Overall[j], Academic[j], Employer[j], Citation[j], H_index[j], -1]], columns = col), ignore_index=True)\n",
      "C:\\Users\\MSI\\AppData\\Local\\Temp\\ipykernel_26616\\4148808711.py:108: FutureWarning: The frame.append method is deprecated and will be removed from pandas in a future version. Use pandas.concat instead.\n",
      "  output = output.append(pd.DataFrame([[Name[j], Location[j], Rank[j], Overall[j], Academic[j], Employer[j], Citation[j], H_index[j], -1]], columns = col), ignore_index=True)\n",
      "C:\\Users\\MSI\\AppData\\Local\\Temp\\ipykernel_26616\\4148808711.py:108: FutureWarning: The frame.append method is deprecated and will be removed from pandas in a future version. Use pandas.concat instead.\n",
      "  output = output.append(pd.DataFrame([[Name[j], Location[j], Rank[j], Overall[j], Academic[j], Employer[j], Citation[j], H_index[j], -1]], columns = col), ignore_index=True)\n",
      "C:\\Users\\MSI\\AppData\\Local\\Temp\\ipykernel_26616\\4148808711.py:108: FutureWarning: The frame.append method is deprecated and will be removed from pandas in a future version. Use pandas.concat instead.\n",
      "  output = output.append(pd.DataFrame([[Name[j], Location[j], Rank[j], Overall[j], Academic[j], Employer[j], Citation[j], H_index[j], -1]], columns = col), ignore_index=True)\n",
      "C:\\Users\\MSI\\AppData\\Local\\Temp\\ipykernel_26616\\4148808711.py:108: FutureWarning: The frame.append method is deprecated and will be removed from pandas in a future version. Use pandas.concat instead.\n",
      "  output = output.append(pd.DataFrame([[Name[j], Location[j], Rank[j], Overall[j], Academic[j], Employer[j], Citation[j], H_index[j], -1]], columns = col), ignore_index=True)\n",
      "C:\\Users\\MSI\\AppData\\Local\\Temp\\ipykernel_26616\\4148808711.py:108: FutureWarning: The frame.append method is deprecated and will be removed from pandas in a future version. Use pandas.concat instead.\n",
      "  output = output.append(pd.DataFrame([[Name[j], Location[j], Rank[j], Overall[j], Academic[j], Employer[j], Citation[j], H_index[j], -1]], columns = col), ignore_index=True)\n",
      "C:\\Users\\MSI\\AppData\\Local\\Temp\\ipykernel_26616\\4148808711.py:108: FutureWarning: The frame.append method is deprecated and will be removed from pandas in a future version. Use pandas.concat instead.\n",
      "  output = output.append(pd.DataFrame([[Name[j], Location[j], Rank[j], Overall[j], Academic[j], Employer[j], Citation[j], H_index[j], -1]], columns = col), ignore_index=True)\n",
      "C:\\Users\\MSI\\AppData\\Local\\Temp\\ipykernel_26616\\4148808711.py:108: FutureWarning: The frame.append method is deprecated and will be removed from pandas in a future version. Use pandas.concat instead.\n",
      "  output = output.append(pd.DataFrame([[Name[j], Location[j], Rank[j], Overall[j], Academic[j], Employer[j], Citation[j], H_index[j], -1]], columns = col), ignore_index=True)\n",
      "C:\\Users\\MSI\\AppData\\Local\\Temp\\ipykernel_26616\\4148808711.py:108: FutureWarning: The frame.append method is deprecated and will be removed from pandas in a future version. Use pandas.concat instead.\n",
      "  output = output.append(pd.DataFrame([[Name[j], Location[j], Rank[j], Overall[j], Academic[j], Employer[j], Citation[j], H_index[j], -1]], columns = col), ignore_index=True)\n",
      "C:\\Users\\MSI\\AppData\\Local\\Temp\\ipykernel_26616\\4148808711.py:108: FutureWarning: The frame.append method is deprecated and will be removed from pandas in a future version. Use pandas.concat instead.\n",
      "  output = output.append(pd.DataFrame([[Name[j], Location[j], Rank[j], Overall[j], Academic[j], Employer[j], Citation[j], H_index[j], -1]], columns = col), ignore_index=True)\n",
      "C:\\Users\\MSI\\AppData\\Local\\Temp\\ipykernel_26616\\4148808711.py:108: FutureWarning: The frame.append method is deprecated and will be removed from pandas in a future version. Use pandas.concat instead.\n",
      "  output = output.append(pd.DataFrame([[Name[j], Location[j], Rank[j], Overall[j], Academic[j], Employer[j], Citation[j], H_index[j], -1]], columns = col), ignore_index=True)\n",
      "C:\\Users\\MSI\\AppData\\Local\\Temp\\ipykernel_26616\\4148808711.py:108: FutureWarning: The frame.append method is deprecated and will be removed from pandas in a future version. Use pandas.concat instead.\n",
      "  output = output.append(pd.DataFrame([[Name[j], Location[j], Rank[j], Overall[j], Academic[j], Employer[j], Citation[j], H_index[j], -1]], columns = col), ignore_index=True)\n",
      "C:\\Users\\MSI\\AppData\\Local\\Temp\\ipykernel_26616\\4148808711.py:108: FutureWarning: The frame.append method is deprecated and will be removed from pandas in a future version. Use pandas.concat instead.\n",
      "  output = output.append(pd.DataFrame([[Name[j], Location[j], Rank[j], Overall[j], Academic[j], Employer[j], Citation[j], H_index[j], -1]], columns = col), ignore_index=True)\n",
      "C:\\Users\\MSI\\AppData\\Local\\Temp\\ipykernel_26616\\4148808711.py:116: FutureWarning: save is not part of the public API, usage can give unexpected results and will be removed in a future version\n",
      "  writer.save()\n"
     ]
    },
    {
     "name": "stdout",
     "output_type": "stream",
     "text": [
      "crawling page 13\n"
     ]
    },
    {
     "name": "stderr",
     "output_type": "stream",
     "text": [
      "C:\\Users\\MSI\\AppData\\Local\\Temp\\ipykernel_26616\\4148808711.py:27: DeprecationWarning: executable_path has been deprecated, please pass in a Service object\n",
      "  browser = webdriver.Chrome(ChromeDriverManager().install(), chrome_options=options)\n",
      "C:\\Users\\MSI\\AppData\\Local\\Temp\\ipykernel_26616\\4148808711.py:27: DeprecationWarning: use options instead of chrome_options\n",
      "  browser = webdriver.Chrome(ChromeDriverManager().install(), chrome_options=options)\n"
     ]
    },
    {
     "name": "stdout",
     "output_type": "stream",
     "text": [
      "Universität Leipzig 151-200 - 59.2\n",
      "Université Grenoble Alpes 151-200 - 62\n",
      "Uppsala University 151-200 - 56.5\n",
      "University of Münster 151-200 - 58.2\n",
      "École Normale Supérieure de Lyon 151-200 - 61.5\n",
      "CONSTANTINE THE PHILOSOPHER UNIVERSITY IN NITRA 201-210 - 57.7\n",
      "Jagiellonian University 201-210 - 57\n",
      "Shanghai Jiao Tong University 201-210 - 61.1\n",
      "University of Bern 201-210 - 52.7\n",
      "University of Göttingen 201-210 - 53.6\n",
      "University of Lausanne 201-210 - 54.2\n",
      "University of Lisbon 201-210 - 55.1\n",
      "University of Miami 201-210 - 50.7\n",
      "University of Salamanca 201-210 - 56.2\n",
      "University of Waikato 201-210 - 53.4\n",
      "done\n"
     ]
    },
    {
     "name": "stderr",
     "output_type": "stream",
     "text": [
      "C:\\Users\\MSI\\AppData\\Local\\Temp\\ipykernel_26616\\4148808711.py:108: FutureWarning: The frame.append method is deprecated and will be removed from pandas in a future version. Use pandas.concat instead.\n",
      "  output = output.append(pd.DataFrame([[Name[j], Location[j], Rank[j], Overall[j], Academic[j], Employer[j], Citation[j], H_index[j], -1]], columns = col), ignore_index=True)\n",
      "C:\\Users\\MSI\\AppData\\Local\\Temp\\ipykernel_26616\\4148808711.py:108: FutureWarning: The frame.append method is deprecated and will be removed from pandas in a future version. Use pandas.concat instead.\n",
      "  output = output.append(pd.DataFrame([[Name[j], Location[j], Rank[j], Overall[j], Academic[j], Employer[j], Citation[j], H_index[j], -1]], columns = col), ignore_index=True)\n",
      "C:\\Users\\MSI\\AppData\\Local\\Temp\\ipykernel_26616\\4148808711.py:108: FutureWarning: The frame.append method is deprecated and will be removed from pandas in a future version. Use pandas.concat instead.\n",
      "  output = output.append(pd.DataFrame([[Name[j], Location[j], Rank[j], Overall[j], Academic[j], Employer[j], Citation[j], H_index[j], -1]], columns = col), ignore_index=True)\n",
      "C:\\Users\\MSI\\AppData\\Local\\Temp\\ipykernel_26616\\4148808711.py:108: FutureWarning: The frame.append method is deprecated and will be removed from pandas in a future version. Use pandas.concat instead.\n",
      "  output = output.append(pd.DataFrame([[Name[j], Location[j], Rank[j], Overall[j], Academic[j], Employer[j], Citation[j], H_index[j], -1]], columns = col), ignore_index=True)\n",
      "C:\\Users\\MSI\\AppData\\Local\\Temp\\ipykernel_26616\\4148808711.py:108: FutureWarning: The frame.append method is deprecated and will be removed from pandas in a future version. Use pandas.concat instead.\n",
      "  output = output.append(pd.DataFrame([[Name[j], Location[j], Rank[j], Overall[j], Academic[j], Employer[j], Citation[j], H_index[j], -1]], columns = col), ignore_index=True)\n",
      "C:\\Users\\MSI\\AppData\\Local\\Temp\\ipykernel_26616\\4148808711.py:108: FutureWarning: The frame.append method is deprecated and will be removed from pandas in a future version. Use pandas.concat instead.\n",
      "  output = output.append(pd.DataFrame([[Name[j], Location[j], Rank[j], Overall[j], Academic[j], Employer[j], Citation[j], H_index[j], -1]], columns = col), ignore_index=True)\n",
      "C:\\Users\\MSI\\AppData\\Local\\Temp\\ipykernel_26616\\4148808711.py:108: FutureWarning: The frame.append method is deprecated and will be removed from pandas in a future version. Use pandas.concat instead.\n",
      "  output = output.append(pd.DataFrame([[Name[j], Location[j], Rank[j], Overall[j], Academic[j], Employer[j], Citation[j], H_index[j], -1]], columns = col), ignore_index=True)\n",
      "C:\\Users\\MSI\\AppData\\Local\\Temp\\ipykernel_26616\\4148808711.py:108: FutureWarning: The frame.append method is deprecated and will be removed from pandas in a future version. Use pandas.concat instead.\n",
      "  output = output.append(pd.DataFrame([[Name[j], Location[j], Rank[j], Overall[j], Academic[j], Employer[j], Citation[j], H_index[j], -1]], columns = col), ignore_index=True)\n",
      "C:\\Users\\MSI\\AppData\\Local\\Temp\\ipykernel_26616\\4148808711.py:108: FutureWarning: The frame.append method is deprecated and will be removed from pandas in a future version. Use pandas.concat instead.\n",
      "  output = output.append(pd.DataFrame([[Name[j], Location[j], Rank[j], Overall[j], Academic[j], Employer[j], Citation[j], H_index[j], -1]], columns = col), ignore_index=True)\n",
      "C:\\Users\\MSI\\AppData\\Local\\Temp\\ipykernel_26616\\4148808711.py:108: FutureWarning: The frame.append method is deprecated and will be removed from pandas in a future version. Use pandas.concat instead.\n",
      "  output = output.append(pd.DataFrame([[Name[j], Location[j], Rank[j], Overall[j], Academic[j], Employer[j], Citation[j], H_index[j], -1]], columns = col), ignore_index=True)\n",
      "C:\\Users\\MSI\\AppData\\Local\\Temp\\ipykernel_26616\\4148808711.py:108: FutureWarning: The frame.append method is deprecated and will be removed from pandas in a future version. Use pandas.concat instead.\n",
      "  output = output.append(pd.DataFrame([[Name[j], Location[j], Rank[j], Overall[j], Academic[j], Employer[j], Citation[j], H_index[j], -1]], columns = col), ignore_index=True)\n",
      "C:\\Users\\MSI\\AppData\\Local\\Temp\\ipykernel_26616\\4148808711.py:108: FutureWarning: The frame.append method is deprecated and will be removed from pandas in a future version. Use pandas.concat instead.\n",
      "  output = output.append(pd.DataFrame([[Name[j], Location[j], Rank[j], Overall[j], Academic[j], Employer[j], Citation[j], H_index[j], -1]], columns = col), ignore_index=True)\n",
      "C:\\Users\\MSI\\AppData\\Local\\Temp\\ipykernel_26616\\4148808711.py:108: FutureWarning: The frame.append method is deprecated and will be removed from pandas in a future version. Use pandas.concat instead.\n",
      "  output = output.append(pd.DataFrame([[Name[j], Location[j], Rank[j], Overall[j], Academic[j], Employer[j], Citation[j], H_index[j], -1]], columns = col), ignore_index=True)\n",
      "C:\\Users\\MSI\\AppData\\Local\\Temp\\ipykernel_26616\\4148808711.py:108: FutureWarning: The frame.append method is deprecated and will be removed from pandas in a future version. Use pandas.concat instead.\n",
      "  output = output.append(pd.DataFrame([[Name[j], Location[j], Rank[j], Overall[j], Academic[j], Employer[j], Citation[j], H_index[j], -1]], columns = col), ignore_index=True)\n",
      "C:\\Users\\MSI\\AppData\\Local\\Temp\\ipykernel_26616\\4148808711.py:108: FutureWarning: The frame.append method is deprecated and will be removed from pandas in a future version. Use pandas.concat instead.\n",
      "  output = output.append(pd.DataFrame([[Name[j], Location[j], Rank[j], Overall[j], Academic[j], Employer[j], Citation[j], H_index[j], -1]], columns = col), ignore_index=True)\n",
      "C:\\Users\\MSI\\AppData\\Local\\Temp\\ipykernel_26616\\4148808711.py:116: FutureWarning: save is not part of the public API, usage can give unexpected results and will be removed in a future version\n",
      "  writer.save()\n"
     ]
    },
    {
     "name": "stdout",
     "output_type": "stream",
     "text": [
      "crawling page 14\n"
     ]
    },
    {
     "name": "stderr",
     "output_type": "stream",
     "text": [
      "C:\\Users\\MSI\\AppData\\Local\\Temp\\ipykernel_26616\\4148808711.py:27: DeprecationWarning: executable_path has been deprecated, please pass in a Service object\n",
      "  browser = webdriver.Chrome(ChromeDriverManager().install(), chrome_options=options)\n",
      "C:\\Users\\MSI\\AppData\\Local\\Temp\\ipykernel_26616\\4148808711.py:27: DeprecationWarning: use options instead of chrome_options\n",
      "  browser = webdriver.Chrome(ChromeDriverManager().install(), chrome_options=options)\n"
     ]
    },
    {
     "name": "stdout",
     "output_type": "stream",
     "text": [
      "University of Warsaw 201-210 - 55.6\n",
      "University of Waterloo 201-210 - 50.2\n",
      "done\n"
     ]
    },
    {
     "name": "stderr",
     "output_type": "stream",
     "text": [
      "C:\\Users\\MSI\\AppData\\Local\\Temp\\ipykernel_26616\\4148808711.py:108: FutureWarning: The frame.append method is deprecated and will be removed from pandas in a future version. Use pandas.concat instead.\n",
      "  output = output.append(pd.DataFrame([[Name[j], Location[j], Rank[j], Overall[j], Academic[j], Employer[j], Citation[j], H_index[j], -1]], columns = col), ignore_index=True)\n",
      "C:\\Users\\MSI\\AppData\\Local\\Temp\\ipykernel_26616\\4148808711.py:108: FutureWarning: The frame.append method is deprecated and will be removed from pandas in a future version. Use pandas.concat instead.\n",
      "  output = output.append(pd.DataFrame([[Name[j], Location[j], Rank[j], Overall[j], Academic[j], Employer[j], Citation[j], H_index[j], -1]], columns = col), ignore_index=True)\n",
      "C:\\Users\\MSI\\AppData\\Local\\Temp\\ipykernel_26616\\4148808711.py:116: FutureWarning: save is not part of the public API, usage can give unexpected results and will be removed in a future version\n",
      "  writer.save()\n"
     ]
    },
    {
     "name": "stdout",
     "output_type": "stream",
     "text": [
      "crawling page 15\n"
     ]
    },
    {
     "name": "stderr",
     "output_type": "stream",
     "text": [
      "C:\\Users\\MSI\\AppData\\Local\\Temp\\ipykernel_26616\\4148808711.py:27: DeprecationWarning: executable_path has been deprecated, please pass in a Service object\n",
      "  browser = webdriver.Chrome(ChromeDriverManager().install(), chrome_options=options)\n",
      "C:\\Users\\MSI\\AppData\\Local\\Temp\\ipykernel_26616\\4148808711.py:27: DeprecationWarning: use options instead of chrome_options\n",
      "  browser = webdriver.Chrome(ChromeDriverManager().install(), chrome_options=options)\n"
     ]
    },
    {
     "name": "stdout",
     "output_type": "stream",
     "text": [
      "end of subject\n"
     ]
    },
    {
     "name": "stderr",
     "output_type": "stream",
     "text": [
      "C:\\Users\\MSI\\AppData\\Local\\Temp\\ipykernel_26616\\4148808711.py:103: FutureWarning: save is not part of the public API, usage can give unexpected results and will be removed in a future version\n",
      "  writer.save()\n"
     ]
    }
   ],
   "source": [
    "subjects = ['education-training', 'business-management-studies', 'accounting-finance']\n",
    "\n",
    "get_subject('philosophy', 0)"
   ]
  },
  {
   "cell_type": "code",
   "execution_count": null,
   "metadata": {},
   "outputs": [],
   "source": []
  }
 ],
 "metadata": {
  "kernelspec": {
   "display_name": "Python 3 (ipykernel)",
   "language": "python",
   "name": "python3"
  },
  "language_info": {
   "codemirror_mode": {
    "name": "ipython",
    "version": 3
   },
   "file_extension": ".py",
   "mimetype": "text/x-python",
   "name": "python",
   "nbconvert_exporter": "python",
   "pygments_lexer": "ipython3",
   "version": "3.9.13"
  }
 },
 "nbformat": 4,
 "nbformat_minor": 4
}
