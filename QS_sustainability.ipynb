{
 "cells": [
  {
   "cell_type": "code",
   "execution_count": 52,
   "metadata": {},
   "outputs": [],
   "source": [
    "import requests\n",
    "from bs4 import BeautifulSoup\n",
    "import pandas as pd\n",
    "import numpy as np\n",
    "import json\n",
    "from lxml import etree"
   ]
  },
  {
   "cell_type": "code",
   "execution_count": 53,
   "metadata": {},
   "outputs": [],
   "source": [
    "school_page = requests.request('Get', 'https://www.topuniversities.com/sites/default/files/qs-rankings-data/en/3830382.txt?rmvlzx')\n",
    "data = json.loads(school_page.text)\n",
    "\n",
    "school_page2 = requests.request('Get', 'https://www.topuniversities.com/sites/default/files/qs-rankings-data/en/3830382_indicators.txt?rmvlzx')\n",
    "data2 = json.loads(school_page2.text)"
   ]
  },
  {
   "cell_type": "code",
   "execution_count": 55,
   "metadata": {},
   "outputs": [
    {
     "name": "stdout",
     "output_type": "stream",
     "text": [
      "done\n"
     ]
    }
   ],
   "source": [
    "columns_name = ['Name', 'Score', 'Rank', 'Region', 'City', 'Country', 'Environmential Impact', 'Social Impact', 'Overall Score', 'Sustainable Institutions', 'Sustainable Education', 'Sustainable Research', 'Overall Score', 'Equality', 'Knowledge Exchange', 'Impact of Education', 'Employability & Opportunities', 'Life Quality', 'Overall Score', 'Sustainable Institutions', 'Sustainable Education', 'Sustainable Research', 'Overall Score', 'Equality', 'Knowledge Exchange', 'Impact of Education', 'Employability & Opportunities', 'Life Quality']\n",
    "\n",
    "output = pd.DataFrame()\n",
    "writer = pd.ExcelWriter('./QS_school_sustainability_2023.xlsx')\n",
    "for i in range(700):\n",
    "    name = data['data'][i]['title'].split('>')[2].split('<')[0]\n",
    "    score = data['data'][i]['score']\n",
    "    rank = data['data'][i]['rank_display']\n",
    "    region = data['data'][i]['region']\n",
    "    city = data['data'][i]['city']\n",
    "    country = data['data'][i]['country']\n",
    "    ei = data['data'][i]['group_scores'][0]['score']\n",
    "    si = data['data'][i]['group_scores'][1]['score']\n",
    "    s1 = data2['data'][i]['ind_3824993'].split('>')[2].split('<')[0]\n",
    "    s2 = data2['data'][i]['ind_3824994'].split('>')[2].split('<')[0]\n",
    "    s3 = data2['data'][i]['ind_3824995'].split('>')[2].split('<')[0]\n",
    "    s4 = data2['data'][i]['ind_3824996'].split('>')[2].split('<')[0]\n",
    "    s5 = data2['data'][i]['ind_3824997'].split('>')[2].split('<')[0]\n",
    "    s6 = data2['data'][i]['ind_3824998'].split('>')[2].split('<')[0]\n",
    "    s7 = data2['data'][i]['ind_3824999'].split('>')[2].split('<')[0]\n",
    "    s8 = data2['data'][i]['ind_3825000'].split('>')[2].split('<')[0]\n",
    "    s9 = data2['data'][i]['ind_3825001'].split('>')[2].split('<')[0]\n",
    "    s10 = data2['data'][i]['ind_3825002'].split('>')[2].split('<')[0]\n",
    "    \n",
    "    \n",
    "    s11 = data2['data'][i]['rank_3824993']\n",
    "    s12 = data2['data'][i]['rank_3824994']\n",
    "    s13 = data2['data'][i]['rank_3824995']\n",
    "    s14 = data2['data'][i]['rank_3824996']\n",
    "    s15 = data2['data'][i]['rank_3824997']\n",
    "    s16 = data2['data'][i]['rank_3824998']\n",
    "    s17 = data2['data'][i]['rank_3824999']\n",
    "    s18 = data2['data'][i]['rank_3825000']\n",
    "    s19 = data2['data'][i]['rank_3825001']\n",
    "    s20 = data2['data'][i]['rank_3825002']\n",
    "    tmp = pd.DataFrame([[name, score, rank, region, city, country, ei, si, s1, s2, s3, s4, s5, s6, s7, s8, s9, s10, s11, s12, s13, s14, s15, s16, s17, s18, s19, s20]], columns=columns_name)\n",
    "    output = output.append(tmp)\n",
    "output.to_excel(writer,index=False)\n",
    "print('done')\n",
    "writer.save()"
   ]
  },
  {
   "cell_type": "code",
   "execution_count": null,
   "metadata": {},
   "outputs": [],
   "source": []
  }
 ],
 "metadata": {
  "kernelspec": {
   "display_name": "Python 3 (ipykernel)",
   "language": "python",
   "name": "python3"
  },
  "language_info": {
   "codemirror_mode": {
    "name": "ipython",
    "version": 3
   },
   "file_extension": ".py",
   "mimetype": "text/x-python",
   "name": "python",
   "nbconvert_exporter": "python",
   "pygments_lexer": "ipython3",
   "version": "3.9.13"
  }
 },
 "nbformat": 4,
 "nbformat_minor": 4
}
